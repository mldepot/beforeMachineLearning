{
 "cells": [
  {
   "cell_type": "markdown",
   "metadata": {},
   "source": [
    "# System of linear equations"
   ]
  },
  {
   "cell_type": "markdown",
   "metadata": {},
   "source": [
    "Three movies were screened in a cinema over a weekend: \"Action Adventure\", \"Romantic Comedy\", and \"Sci-fi Thriller\". The individual ticket prices for these movies are x, y, and z dollars respectively. However, you've only been given the following pieces of information:\n",
    "\n",
    " - 700 tickets were sold for \"Action Adventure\" and 300 tickets for \"Romantic Comedy\", collecting a total revenue of 7,000.\n",
    " - 500 tickets were sold for \"Romantic Comedy\" and 500 for \"Sci-fi Thriller\", with a combined revenue of  6,000.\n",
    " - \"Action Adventure\" and \"Sci-fi Thriller\" together sold 1000 tickets and generated a revenue of 9,000.\n",
    " "
   ]
  },
  {
   "cell_type": "markdown",
   "metadata": {},
   "source": [
    "Define the coefficient matrix A and the constant matrix B from your system of equations."
   ]
  },
  {
   "cell_type": "code",
   "execution_count": 4,
   "metadata": {},
   "outputs": [],
   "source": [
    "import numpy as np\n",
    "\n",
    "# Define the coefficient matrix A and the constant matrix B\n",
    "A = np.array([\n",
    "    [700, 300, 0],\n",
    "    [0, 500, 500],\n",
    "    [700, 0, 300]\n",
    "])\n",
    "\n",
    "B = np.array([7000, 6000, 9000])"
   ]
  },
  {
   "cell_type": "markdown",
   "metadata": {},
   "source": [
    "Calculate the determinant of the coefficient matrix A. If the determinant is non-zero, \n",
    "proceed to the next step. If it is zero, indicate that the inverse of A does not exist and discuss the implications."
   ]
  },
  {
   "cell_type": "code",
   "execution_count": 5,
   "metadata": {},
   "outputs": [
    {
     "name": "stdout",
     "output_type": "stream",
     "text": [
      "Determinant of A: 209999999.99999928\n"
     ]
    }
   ],
   "source": [
    " #Calculate the determinant of matrix A\n",
    "det_A = np.linalg.det(A)\n",
    "print(f\"Determinant of A: {det_A}\")"
   ]
  },
  {
   "cell_type": "markdown",
   "metadata": {},
   "source": [
    "Calculate the inverse of matrix A if it exists. "
   ]
  },
  {
   "cell_type": "code",
   "execution_count": 6,
   "metadata": {},
   "outputs": [
    {
     "name": "stdout",
     "output_type": "stream",
     "text": [
      "Inverse of A: \n",
      "[[ 0.00071429 -0.00042857  0.00071429]\n",
      " [ 0.00166667  0.001      -0.00166667]\n",
      " [-0.00166667  0.001       0.00166667]]\n"
     ]
    }
   ],
   "source": [
    "# Check if determinant is non-zero and calculate the inverse if it is\n",
    "if det_A != 0:\n",
    "    A_inv = np.linalg.inv(A)\n",
    "    print(f\"Inverse of A: \\n{A_inv}\")\n",
    "else:\n",
    "    A_inv = None\n",
    "    print(\"Inverse of A does not exist.\")"
   ]
  },
  {
   "cell_type": "markdown",
   "metadata": {},
   "source": [
    "Use the inverse of matrix A to solve for the variable matrix \\(X\\) representing the ticket prices for the movies, i.e., \n",
    "x,y,z. If the inverse does not exist, discuss the implications on the system of equations.\n"
   ]
  },
  {
   "cell_type": "code",
   "execution_count": 7,
   "metadata": {},
   "outputs": [
    {
     "name": "stdout",
     "output_type": "stream",
     "text": [
      "Ticket prices: x = $8.86, y = $2.67, z = $9.33\n"
     ]
    }
   ],
   "source": [
    "if A_inv is not None:\n",
    "    X = np.dot(A_inv, B)\n",
    "    print(f\"Ticket prices: x = ${X[0]:.2f}, y = ${X[1]:.2f}, z = ${X[2]:.2f}\")\n",
    "else:\n",
    "    X = None\n",
    "    print(\"Cannot solve for ticket prices as A is singular.\")\n"
   ]
  },
  {
   "cell_type": "code",
   "execution_count": null,
   "metadata": {},
   "outputs": [],
   "source": []
  },
  {
   "cell_type": "code",
   "execution_count": null,
   "metadata": {},
   "outputs": [],
   "source": []
  }
 ],
 "metadata": {
  "kernelspec": {
   "display_name": "Python 3 (ipykernel)",
   "language": "python",
   "name": "python3"
  },
  "language_info": {
   "codemirror_mode": {
    "name": "ipython",
    "version": 3
   },
   "file_extension": ".py",
   "mimetype": "text/x-python",
   "name": "python",
   "nbconvert_exporter": "python",
   "pygments_lexer": "ipython3",
   "version": "3.12.1"
  }
 },
 "nbformat": 4,
 "nbformat_minor": 4
}
