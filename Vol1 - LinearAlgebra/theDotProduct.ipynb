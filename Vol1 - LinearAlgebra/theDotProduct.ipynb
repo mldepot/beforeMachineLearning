{
 "cells": [
  {
   "cell_type": "markdown",
   "id": "8cd0cc50-2d61-4ed9-82ee-67d391bcfe2c",
   "metadata": {},
   "source": [
    "# The dot product:"
   ]
  },
  {
   "cell_type": "code",
   "execution_count": null,
   "id": "6dfcd8a3-1a18-4525-a6ee-f2fb94425b39",
   "metadata": {},
   "outputs": [],
   "source": [
    "import numpy as np"
   ]
  },
  {
   "cell_type": "markdown",
   "id": "5013feab-4d4f-4a96-add8-9507d1d13f27",
   "metadata": {},
   "source": [
    "## Define the ranking matrix:"
   ]
  },
  {
   "cell_type": "code",
   "execution_count": null,
   "id": "5ff4291f-56aa-4186-a54c-3306033383f7",
   "metadata": {},
   "outputs": [],
   "source": [
    "# Create the rankings matrix\n",
    "ratings = np.array([\n",
    "    [5, 2, 1, 0, 3],\n",
    "    [4, 1, 0, 2, 0],\n",
    "    [3, 5, 0, 4, 5],\n",
    "    [1, 0, 5, 3, 2],\n",
    "    [0, 4, 2, 4, 1],\n",
    "    [2, 3, 0, 1, 0]\n",
    "])"
   ]
  },
  {
   "cell_type": "markdown",
   "id": "90d06c28-6fae-48ff-880f-3a44229d8fd9",
   "metadata": {},
   "source": [
    "Design a function that accepts a two-dimensional array representing user ratings assigned to a collection of movies. Additionally, the function should receive a specific movie id as an argument. The task of the function is to determine and return the movie with the most similar average rating to the given movie, with the condition that the returned movie must not be the same as the input movie."
   ]
  },
  {
   "cell_type": "markdown",
   "id": "535f7c48-2b65-4f6e-b2d2-cf70897109cf",
   "metadata": {},
   "source": [
    "## Function to return most similar movie to a movie index:"
   ]
  },
  {
   "cell_type": "code",
   "execution_count": null,
   "id": "15b16733-ffba-4c9a-9301-36dadfd4353c",
   "metadata": {},
   "outputs": [],
   "source": [
    "def most_similar_movie(ratings, target_movie_idx):\n",
    "    \"\"\"\n",
    "    ratings: 2D numpy array where each column represents a movie \n",
    "             and each row represents a user's rating for those movies.\n",
    "             \n",
    "    target_movie_idx: Index of the movie (column index in 'ratings') for \n",
    "                      which we want to find the most similar movie.\n",
    "    \"\"\"\n",
    "    \n",
    "    # Extract the ratings for the target movie from the 'ratings' array.\n",
    "    target_movie_ratings = ratings[:, target_movie_idx]\n",
    "    \n",
    "    # Initialize a list to store the similarity of the target movie \n",
    "    # with every other movie.\n",
    "    similarities = []\n",
    "    \n",
    "    # Iterate over all movies in the 'ratings' array.\n",
    "    for i in range(ratings.shape[1]):\n",
    "        \n",
    "        # Skip the iteration if the current movie is the target movie.\n",
    "        if i == target_movie_idx: continue  \n",
    "        \n",
    "        # Compute the cosine similarity between the target movie and the current movie.\n",
    "        similarity = np.dot(target_movie_ratings, ratings[:, i]) / (np.linalg.norm(target_movie_ratings) * np.linalg.norm(ratings[:, i]))\n",
    "        \n",
    "        # Append the movie index and its similarity with the target movie to the 'similarities' list.\n",
    "        similarities.append((i, similarity))\n",
    "    \n",
    "    # Sort the 'similarities' list in descending order of similarity values.\n",
    "    similarities.sort(key=lambda x: x[1], reverse=True)\n",
    "    \n",
    "    # Return the index of the most similar movie.\n",
    "    return similarities[0][0] "
   ]
  },
  {
   "cell_type": "code",
   "execution_count": null,
   "id": "2ff1d50a-cf2d-4287-9013-235a3a9b7c9c",
   "metadata": {},
   "outputs": [],
   "source": [
    "similarMovies = most_similar_movie(ratings, 0)\n",
    "print(similarMovies)"
   ]
  },
  {
   "cell_type": "markdown",
   "id": "93208b5b-e414-4093-b882-9c2b4d2aaade",
   "metadata": {},
   "source": [
    " After understanding and completing the first task, adapt the initial function so that it can now provide the top $n$ similar items to a given item. Test the function with different movies and different $n$ values and observe the changes in the output."
   ]
  },
  {
   "cell_type": "markdown",
   "id": "0d3dd9bc-668a-4a65-b3c2-3268740f81fc",
   "metadata": {},
   "source": [
    "## Function to retun the top N movies to a given movie:"
   ]
  },
  {
   "cell_type": "code",
   "execution_count": null,
   "id": "3b0e442c-d9ee-4fa2-954a-76ca9632e7c3",
   "metadata": {},
   "outputs": [],
   "source": [
    "def top_n_similar_movies(ratings, target_movie_idx, n):\n",
    "    \"\"\"\n",
    "    ratings: 2D numpy array, where each column represents a movie \n",
    "             and each row represents a user's rating for those movies.\n",
    "    \n",
    "    target_movie_idx: Index of the movie (column index in 'ratings') \n",
    "                      for which we want to find the most similar movies.\n",
    "                      \n",
    "    n: Number of top similar movies to return.\n",
    "    \"\"\"\n",
    "    \n",
    "    # Extract the ratings for the target movie from the 'ratings' array.\n",
    "    target_movie_ratings = ratings[:, target_movie_idx]\n",
    "    \n",
    "    # Initialize a list to store the similarity of the target movie with every other movie.\n",
    "    similarities = []\n",
    "    \n",
    "    # Iterate over all movies in the 'ratings' array.\n",
    "    for i in range(ratings.shape[1]):\n",
    "        \n",
    "        # Skip the iteration if the current movie is the target movie.\n",
    "        if i == target_movie_idx: continue  \n",
    "        \n",
    "        # Compute the cosine similarity between the target movie and the current movie.\n",
    "        similarity = np.dot(target_movie_ratings, ratings[:, i]) / (np.linalg.norm(target_movie_ratings) * np.linalg.norm(ratings[:, i]))\n",
    "        \n",
    "        # Append the movie index and its similarity with the target movie to the 'similarities' list.\n",
    "        similarities.append((i, similarity))\n",
    "        \n",
    "    # Sort the 'similarities' list in descending order of similarity values.\n",
    "    similarities.sort(key=lambda x: x[1], reverse=True)\n",
    "    \n",
    "    # Return the indices of the top 'n' most similar movies.\n",
    "    return [movie_idx for movie_idx, _ in similarities[:n]]\n"
   ]
  },
  {
   "cell_type": "code",
   "execution_count": null,
   "id": "047a7923-bee0-405f-baae-46f38a7867f6",
   "metadata": {},
   "outputs": [],
   "source": [
    "topMovies = top_n_similar_movies(ratings, 1, 4)\n",
    "print(topMovies)"
   ]
  }
 ],
 "metadata": {
  "kernelspec": {
   "display_name": "Python 3 (ipykernel)",
   "language": "python",
   "name": "python3"
  },
  "language_info": {
   "codemirror_mode": {
    "name": "ipython",
    "version": 3
   },
   "file_extension": ".py",
   "mimetype": "text/x-python",
   "name": "python",
   "nbconvert_exporter": "python",
   "pygments_lexer": "ipython3",
   "version": "3.12.1"
  }
 },
 "nbformat": 4,
 "nbformat_minor": 5
}
