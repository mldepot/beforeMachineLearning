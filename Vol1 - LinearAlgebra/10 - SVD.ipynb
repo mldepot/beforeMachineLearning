{
  "metadata": {
    "language_info": {
      "codemirror_mode": {
        "name": "python",
        "version": 3
      },
      "file_extension": ".py",
      "mimetype": "text/x-python",
      "name": "python",
      "nbconvert_exporter": "python",
      "pygments_lexer": "ipython3",
      "version": "3.8"
    },
    "kernelspec": {
      "name": "python",
      "display_name": "Python (Pyodide)",
      "language": "python"
    }
  },
  "nbformat_minor": 4,
  "nbformat": 4,
  "cells": [
    {
      "cell_type": "markdown",
      "source": "# Single value decomposition",
      "metadata": {}
    },
    {
      "cell_type": "markdown",
      "source": "Calculate the Singular Value Decomposition (SVD) of the given user-movie rating matrix. Represent the matrix as a product of three matrices: U, Sigma , and  V^T .",
      "metadata": {}
    },
    {
      "cell_type": "code",
      "source": "import numpy as np\n\nratings = np.array([\n    [5, 2, 1, 0, 3],\n    [4, 1, 0, 2, 0],\n    [3, 5, 0, 4, 5],\n    [1, 0, 5, 3, 2],\n    [0, 4, 2, 4, 1],\n    [2, 3, 0, 1, 0]\n])\n\nU, S, VT = np.linalg.svd(ratings, full_matrices=False)\n",
      "metadata": {
        "trusted": true
      },
      "execution_count": 3,
      "outputs": []
    },
    {
      "cell_type": "markdown",
      "source": "After performing the SVD, approximate the missing values in the user-movie rating matrix.",
      "metadata": {}
    },
    {
      "cell_type": "code",
      "source": "reconstructed_ratings = np.dot(U, np.dot(np.diag(S), VT))\n",
      "metadata": {
        "trusted": true
      },
      "execution_count": 4,
      "outputs": []
    },
    {
      "cell_type": "markdown",
      "source": "Using the approximated matrix, recommend the top movie for User 1 and User 3 that they haven’t rated.",
      "metadata": {}
    },
    {
      "cell_type": "code",
      "source": "def recommend_top_movie_for_user(user_idx, original_ratings, reconstructed_ratings):\n    user_ratings = original_ratings[user_idx]\n    user_reconstructed_ratings = reconstructed_ratings[user_idx]\n    # Only consider recommending movies the user hasn't rated yet (where rating == 0 in original matrix)\n    recommendable = user_ratings == 0\n    # Within the recommendable movies, find the one with the highest reconstructed rating\n    top_recommendation_idx = np.argmax(user_reconstructed_ratings * recommendable)\n    return top_recommendation_idx\n\n# Recommendations\ntop_movie_user_1 = recommend_top_movie_for_user(0, ratings, reconstructed_ratings)\ntop_movie_user_3 = recommend_top_movie_for_user(2, ratings, reconstructed_ratings)",
      "metadata": {
        "trusted": true
      },
      "execution_count": 5,
      "outputs": []
    },
    {
      "cell_type": "markdown",
      "source": "Given a user-movie rating matrix, implement an SVD-based movie recommendation system to make movie recommendations to a user who has rated some movies but not all.",
      "metadata": {}
    },
    {
      "cell_type": "code",
      "source": "# SVD decomposition\nU, S, VT = np.linalg.svd(ratings, full_matrices=False)\n\n# Reconstruct the matrix using SVD\nreconstructed_ratings = np.dot(U, np.dot(np.diag(S), VT))\n\ndef recommend_movie(user_index, original_ratings, reconstructed_ratings):\n    user_original_ratings = original_ratings[user_index]\n    user_reconstructed_ratings = reconstructed_ratings[user_index]\n    \n    # Consider only movies not seen by the user for recommendation\n    not_seen = user_original_ratings == 0\n    \n    # Recommend the movie with the highest reconstructed rating that the user hasn't seen\n    recommendation = np.argmax(user_reconstructed_ratings * not_seen)\n    return recommendation\n\n# Example usage:\n# Recommend a movie for User 1 (index 0)\nuser_index = 0\nrecommended_movie_index = recommend_movie(user_index, ratings, reconstructed_ratings)\n\nprint(f\"Recommended Movie for User {user_index + 1}: Movie {recommended_movie_index + 1}\")",
      "metadata": {
        "trusted": true
      },
      "execution_count": 6,
      "outputs": [
        {
          "name": "stdout",
          "text": "Recommended Movie for User 1: Movie 1\n",
          "output_type": "stream"
        }
      ]
    },
    {
      "cell_type": "markdown",
      "source": "Using the matrix obtained after performing SVD on a user-movie rating matrix, compute the cosine similarity between different movies. Can you identify movies that are similar to each other?",
      "metadata": {}
    },
    {
      "cell_type": "code",
      "source": "from sklearn.metrics.pairwise import cosine_similarity\n\n# Calculate similarity\nmovie_similarity = cosine_similarity(VT.T)\n\n# Example: finding the most similar movie to Movie 1\nmost_similar_to_movie_1 = np.argmax(movie_similarity[0, 1:]) + 1  # exclude self-similarity\nprint(most_similar_to_movie_1)",
      "metadata": {
        "trusted": true
      },
      "execution_count": 10,
      "outputs": [
        {
          "name": "stdout",
          "text": "1\n",
          "output_type": "stream"
        }
      ]
    },
    {
      "cell_type": "markdown",
      "source": "Use SVD to reduce the dimensionality of a given dataset to two dimensions. Can you visualize any clusters or patterns in the reduced dataset?",
      "metadata": {}
    },
    {
      "cell_type": "code",
      "source": "U_reduced, S_reduced, VT_reduced = U[:, :2], S[:2], VT[:2, :]\n",
      "metadata": {
        "trusted": true
      },
      "execution_count": 8,
      "outputs": []
    },
    {
      "cell_type": "markdown",
      "source": "After performing SVD and reducing the number of singular values, reconstruct the original matrix and calculate the reconstruction error. How does the error change as the number of singular values retained varies?",
      "metadata": {}
    },
    {
      "cell_type": "markdown",
      "source": "reconstructed_ratings_reduced = np.dot(U_reduced, np.dot(np.diag(S_reduced), VT_reduced))\nerror = np.linalg.norm(ratings - reconstructed_ratings_reduced)",
      "metadata": {}
    },
    {
      "cell_type": "markdown",
      "source": "Using SVD, generate top-$k$ movie recommendations for a user, i.e., the $k$ movies that the user is most likely to rate highly but hasn’t rated yet. Can you identify any pattern in the recommendations?",
      "metadata": {}
    },
    {
      "cell_type": "code",
      "source": "# SVD decomposition\nU, S, VT = np.linalg.svd(ratings, full_matrices=False)\n\n# Reconstruct the matrix using SVD\nreconstructed_ratings = np.dot(U, np.dot(np.diag(S), VT))\n\ndef recommend_top_k_movies(user_index, original_ratings, reconstructed_ratings, k):\n    user_original_ratings = original_ratings[user_index]\n    user_reconstructed_ratings = reconstructed_ratings[user_index]\n    \n    # Consider only movies not seen by the user for recommendation\n    not_seen = user_original_ratings == 0\n    \n    # Identify the indices of top-k recommended (unseen) movies\n    recommended_movie_indices = np.argsort(user_reconstructed_ratings * not_seen)[-k:][::-1]\n    return recommended_movie_indices\n\n# Example usage:\n# Recommend top-2 movies for User 1 (index 0)\nuser_index = 0\nk = 2\nrecommended_movie_indices = recommend_top_k_movies(user_index, ratings, reconstructed_ratings, k)\n\nprint(f\"Recommended Movies for User {user_index + 1}: {[i+1 for i in recommended_movie_indices]}\")",
      "metadata": {
        "trusted": true
      },
      "execution_count": 9,
      "outputs": [
        {
          "name": "stdout",
          "text": "Recommended Movies for User 1: [5, 3]\n",
          "output_type": "stream"
        }
      ]
    },
    {
      "cell_type": "code",
      "source": "",
      "metadata": {},
      "execution_count": null,
      "outputs": []
    }
  ]
}
