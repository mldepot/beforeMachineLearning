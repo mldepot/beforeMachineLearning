{
 "cells": [
  {
   "cell_type": "markdown",
   "id": "7eb59ebe-3d82-41d4-a8c0-b968c5b4ba2b",
   "metadata": {},
   "source": [
    "# Conding exercises for Critical Points"
   ]
  },
  {
   "cell_type": "markdown",
   "id": "f4b97cc0-820b-4dcc-a2d3-74943f6739d1",
   "metadata": {},
   "source": [
    "### Import numpy library and matplotlib"
   ]
  },
  {
   "cell_type": "code",
   "execution_count": 1,
   "id": "f4bbc67c-9cb0-46a9-84e5-47dac9e17481",
   "metadata": {},
   "outputs": [],
   "source": [
    "import numpy\n",
    "import matplotlib.pyplot as plt"
   ]
  },
  {
   "cell_type": "markdown",
   "id": "164a74a0-40c9-4016-b382-739f8e13abf8",
   "metadata": {},
   "source": [
    "### In case you need to install it, run this cell "
   ]
  },
  {
   "cell_type": "code",
   "execution_count": null,
   "id": "83688e5f-3b75-4f20-8edb-15fefab7a89d",
   "metadata": {},
   "outputs": [],
   "source": [
    "!pip3 install numpy\n",
    "!pip3 install matplotlib"
   ]
  },
  {
   "cell_type": "markdown",
   "id": "ac539bab-4420-4ba6-8380-479d8030f8f6",
   "metadata": {},
   "source": [
    "## Function, first and second derivatives\n",
    "Because the methods require for us to have the function, the first and second derivatives defined in python we will do prior to their implementations\n",
    "\n"
   ]
  },
  {
   "cell_type": "code",
   "execution_count": 2,
   "id": "b56f4fbb-2e3b-4e98-ac74-fe1eadbd2e25",
   "metadata": {},
   "outputs": [],
   "source": [
    "def f(x):\n",
    "    return x**4 - 4*x**3 + 4*x**2\n",
    "def df(x):\n",
    "    return 4*x**3 - 12*x**2 + 8*x\n",
    "    \n",
    "def df2(x):  # Second derivative\n",
    "    return 12*x**2 - 24*x + 8\n"
   ]
  },
  {
   "cell_type": "markdown",
   "id": "d57ffe1c-77f6-470b-8dce-eece0012e645",
   "metadata": {},
   "source": [
    "## 1. Root Find with Newton's Method"
   ]
  },
  {
   "cell_type": "markdown",
   "id": "c6951230-a321-4978-9661-0154f58cb18e",
   "metadata": {},
   "source": [
    "### Newton's Method for Root Finding:\n",
    "\n",
    "**Function and Derivative:**\n",
    "The function we're considering is:\n",
    "$$ f(x) = x^4 + 4x^3 + 4x^2$$\n",
    "Its derivative is:\n",
    "$$ f'(x) = 4x^3 - 12x^2 + 8x $$\n",
    "\n",
    "**Method Overview:**\n",
    "The Newton-Raphson method updates our estimate for the root using the formula:\n",
    "$$ x_{n+1} = x_n - \\frac{f(x_n)}{f'(x_n)} $$\n",
    "This method iteratively refines the root approximation.\n",
    "\n",
    "**Stopping Criteria:**\n",
    "We use two stopping criteria:\n",
    "1. When the absolute value of $ f(x) $ is less than $ 10^{-5} $ indicating proximity to a root.\n",
    "2. After 10 iterations, to prevent endless loops in case the method doesn't converge.\n",
    "\n",
    "**Implementation:**\n",
    "The Python function `newton_method` implements this approach. When run, it will provide the approximate root and the number of iterations it took to either converge to the root or hit the iteration limit.\n"
   ]
  },
  {
   "cell_type": "code",
   "execution_count": 3,
   "id": "4d0a8862-c49d-465f-8310-c4f271ec79e3",
   "metadata": {},
   "outputs": [],
   "source": [
    "def newton_method(x0, tol=1e-5, max_iter=10):\n",
    "    \"\"\"\n",
    "    Newton's method for root finding.\n",
    "    \n",
    "    Parameters:\n",
    "    - x0: Initial guess\n",
    "    - tol: Tolerance level (default is 1e-5)\n",
    "    - max_iter: Maximum number of iterations (default is 10)\n",
    "\n",
    "    Returns:\n",
    "    - Root of the function f(x) if found within max_iter iterations and tolerance, else returns the latest estimate\n",
    "    \"\"\"\n",
    "    x = x0\n",
    "    for i in range(max_iter):\n",
    "        # Compute the next approximation using Newton's method formula\n",
    "        x_next = x - f(x)/df(x)\n",
    "        \n",
    "        # Check the stopping criterion\n",
    "        if abs(f(x_next)) < tol:\n",
    "            print(f\"Root found at x = {x_next}, after {i+1} iterations.\")\n",
    "            return x_next\n",
    "        \n",
    "        # Update x for the next iteration\n",
    "        x = x_next\n",
    "        \n",
    "    print(f\"Stopped after {max_iter} iterations. Latest estimate for root is x = {x}.\")\n",
    "    return x"
   ]
  },
  {
   "cell_type": "markdown",
   "id": "8f9a7b11-e6ec-46bf-9be8-3919c6bd6fcd",
   "metadata": {},
   "source": [
    "### Run the code"
   ]
  },
  {
   "cell_type": "code",
   "execution_count": 4,
   "id": "638602cb-866e-456e-954b-8fa5974fa612",
   "metadata": {},
   "outputs": [
    {
     "name": "stdout",
     "output_type": "stream",
     "text": [
      "Root found at x = 0.001407967242655117, after 6 iterations.\n"
     ]
    }
   ],
   "source": [
    "x0 = 0.1\n",
    "root = newton_method(x0)"
   ]
  },
  {
   "cell_type": "markdown",
   "id": "110e8f5a-21ef-417e-88b2-23313bd45949",
   "metadata": {},
   "source": [
    "## 2.Minimization with Gradient Descent"
   ]
  },
  {
   "cell_type": "markdown",
   "id": "2138c55f-b753-431d-9d41-c36c28de92f6",
   "metadata": {},
   "source": [
    "### Gradient Descent for Function Minimization:\n",
    "\n",
    "**Function and Gradient:**\n",
    "The function we're targeting for minimization is:\n",
    "$$ f(x) = x^4 + 4x^3 + 4x^2$$\n",
    "Its gradient (or derivative, in this one-dimensional case) is:\n",
    "$$ f'(x) = 4x^3 - 12x^2 + 8x $$\n",
    "\n",
    "\n",
    "**Method Overview:**\n",
    "Gradient Descent updates our estimate for the local minimum using the rule:\n",
    "$$ x_{n+1} = x_n - \\alpha f'(x_n) $$\n",
    "Where $\\alpha $ is the learning rate. This method iteratively shifts the current estimate in the direction of the steepest decrease of the function.\n",
    "\n",
    "**Stopping Criteria:**\n",
    "The algorithm stops when the difference between the function values in consecutive steps is smaller than $ 10^{-5} $. If this doesn't occur, the method will stop after 10,000 iterations as a fallback.\n",
    "\n",
    "**Implementation:**\n",
    "The Python function `gradient_descent` captures this method. It returns both the approximate point of the minimum and a history of all $ x $ values considered during the iterations. This history can be useful for visualization purposes later on.\n"
   ]
  },
  {
   "cell_type": "code",
   "execution_count": 5,
   "id": "bd6e418d-157b-420a-81c0-578f51d18178",
   "metadata": {},
   "outputs": [],
   "source": [
    "import numpy as np\n",
    "def gradient_descent_minimize(learning_rate=0.01, tol=1e-5, x0=0.1):\n",
    "    \"\"\"\n",
    "    Function to perform minimization using gradient descent.\n",
    "    \n",
    "    Parameters:\n",
    "    - learning_rate: Step size for each iteration.\n",
    "    - tol: Tolerance value for stopping criterion.\n",
    "    - x0: Initial guess.\n",
    "    \n",
    "    Returns:\n",
    "    - x: Approximate minimum point.\n",
    "    - errors: List containing value of f(x) for each iteration.\n",
    "    \"\"\"\n",
    "    x = x0\n",
    "    errors = [f(x)]\n",
    "    \n",
    "    # Run gradient descent until change in f(x) value is smaller than tol\n",
    "    while True:\n",
    "        x_new = x - learning_rate * df(x)\n",
    "        if np.abs(f(x_new) - f(x)) < tol:\n",
    "            break\n",
    "        x = x_new\n",
    "        errors.append(f(x))\n",
    "    \n",
    "    return x, errors"
   ]
  },
  {
   "cell_type": "markdown",
   "id": "2b780ae2-fed8-4387-a64c-94753ea559d1",
   "metadata": {},
   "source": [
    "### Run the code"
   ]
  },
  {
   "cell_type": "code",
   "execution_count": 6,
   "id": "6674746c-7815-4533-8510-8730205a66f3",
   "metadata": {},
   "outputs": [
    {
     "name": "stdout",
     "output_type": "stream",
     "text": [
      "Approximate minimum point using Gradient Descent: x = 0.00387025495013399\n"
     ]
    }
   ],
   "source": [
    "# Call the function and get the minimum point and error list\n",
    "min_gd, gd_errors = gradient_descent_minimize()\n",
    "print(f\"Approximate minimum point using Gradient Descent: x = {min_gd}\")"
   ]
  },
  {
   "cell_type": "markdown",
   "id": "30d2d33a-7596-416a-8923-1eb98dd0480a",
   "metadata": {},
   "source": [
    "## 3.Minimization with Newton's Method "
   ]
  },
  {
   "cell_type": "markdown",
   "id": "2fa554fd-600c-4e50-81ee-bacdeb5b1b08",
   "metadata": {},
   "source": [
    "### Newton's Method for Function Minimization:\n",
    "\n",
    "**Function and Derivative:**\n",
    "The function we're considering is:\n",
    "$$ f(x) = x^4 + 4x^3 + 4x^2$$\n",
    "Its derivative is:\n",
    "$$ f'(x) = 4x^3 - 12x^2 + 8x $$\n",
    "And the second derivative (Hessian for this 1D case) is:\n",
    "$$ f''(x) = 12x^2 -24x + 8$$\n",
    "\n",
    "**Method Overview:**\n",
    "Newton's method for optimization updates our estimate for the local minimum using the rule:\n",
    "$$ x_{n+1} = x_n - \\frac{f'(x_n)}{f''(x_n)} $$\n",
    "This method tries to approximate the function locally by a quadratic function and then jumps straight to the minimum of that quadratic.\n",
    "\n",
    "**Stopping Criteria:**\n",
    "The algorithm stops when the difference between the function values in consecutive steps is smaller than $ 10^{-5} $. If this doesn't occur, the method will stop after 10 iterations as a fallback.\n",
    "\n",
    "**Implementation:**\n",
    "The Python function `newton_minimization` encapsulates this method. It outputs both the approximate point of the minimum and a history of all \\( x \\) values considered during the iterations. This history can be beneficial for subsequent visualization and comparison.\n"
   ]
  },
  {
   "cell_type": "code",
   "execution_count": 9,
   "id": "10e27ddb-fd02-46e9-bf81-52d92c00d225",
   "metadata": {},
   "outputs": [],
   "source": [
    "def newton_method_optimize(tol=1e-5, x0=0.1):\n",
    "    \"\"\"\n",
    "    Function to perform minimization using Newton's method.\n",
    "    \n",
    "    Parameters:\n",
    "    - tol: Tolerance value for stopping criterion.\n",
    "    - x0: Initial guess.\n",
    "    \n",
    "    Returns:\n",
    "    - x: Approximate minimum point.\n",
    "    - errors: List containing value of f(x) for each iteration.\n",
    "    \"\"\"\n",
    "    x = x0\n",
    "    errors = [f(x)]\n",
    "    \n",
    "    # Run Newton's method until change in f(x) value is smaller than tol\n",
    "    while True:\n",
    "        x_new = x - df(x)/df2(x)\n",
    "        if np.abs(f(x_new) - f(x)) < tol:\n",
    "            break\n",
    "        x = x_new\n",
    "        errors.append(f(x))\n",
    "    \n",
    "    return x, errors"
   ]
  },
  {
   "cell_type": "markdown",
   "id": "6a4277a2-5838-473e-9aca-bc8f899924f9",
   "metadata": {},
   "source": [
    "### Run the code"
   ]
  },
  {
   "cell_type": "code",
   "execution_count": 10,
   "id": "ae7ffa83-92a8-40c9-855f-7ae7ee881a0b",
   "metadata": {},
   "outputs": [
    {
     "name": "stdout",
     "output_type": "stream",
     "text": [
      "Approximate minimum point using Newton's method for optimization: x = -0.00055\n"
     ]
    }
   ],
   "source": [
    "# Initial guess\n",
    "x0 = 0.1\n",
    "min_point, errors = newton_method_optimize(x0=x0)\n",
    "print(f\"Approximate minimum point using Newton's method for optimization: x = {min_point:.5f}\")"
   ]
  },
  {
   "cell_type": "markdown",
   "id": "0e0d96bd-9502-4029-a110-29b2e1c593fe",
   "metadata": {},
   "source": [
    "## 4: Comparison between Gradient Descent and Newton’s Method for Optimization"
   ]
  },
  {
   "cell_type": "code",
   "execution_count": 12,
   "id": "32143ae6-dd3e-47ea-941e-e3078f7b997d",
   "metadata": {},
   "outputs": [
    {
     "name": "stdout",
     "output_type": "stream",
     "text": [
      "Gradient Descent took 42 iterations.\n",
      "Newton's method took 3 iterations.\n"
     ]
    },
    {
     "data": {
      "image/png": "[encoded data removed]",
      "text/plain": [
       "<Figure size 1000x600 with 1 Axes>"
      ]
     },
     "metadata": {},
     "output_type": "display_data"
    }
   ],
   "source": [
    "# Run both methods\n",
    "min_gd, gd_errors = gradient_descent_minimize()\n",
    "min_newton, newton_errors = newton_method_optimize()\n",
    "\n",
    "# Compare number of iterations taken to converge\n",
    "print(f\"Gradient Descent took {len(gd_errors)} iterations.\")\n",
    "print(f\"Newton's method took {len(newton_errors)} iterations.\")\n",
    "\n",
    "# Plot the convergence of the methods\n",
    "plt.figure(figsize=(10, 6))\n",
    "plt.plot(gd_errors, label='Gradient Descent', linestyle='--')\n",
    "plt.plot(newton_errors, label=\"Newton's Method\", linestyle='-')\n",
    "plt.title(\"Convergence of Gradient Descent vs Newton's Method\")\n",
    "plt.xlabel(\"Iterations\")\n",
    "plt.ylabel(\"Value of f(x)\")\n",
    "plt.legend()\n",
    "plt.grid(True)\n",
    "plt.show()"
   ]
  },
  {
   "cell_type": "code",
   "execution_count": null,
   "id": "63dc5c96-ae47-49ca-bcd7-c4b13f20a082",
   "metadata": {},
   "outputs": [],
   "source": []
  }
 ],
 "metadata": {
  "kernelspec": {
   "display_name": "Python 3 (ipykernel)",
   "language": "python",
   "name": "python3"
  },
  "language_info": {
   "codemirror_mode": {
    "name": "ipython",
    "version": 3
   },
   "file_extension": ".py",
   "mimetype": "text/x-python",
   "name": "python",
   "nbconvert_exporter": "python",
   "pygments_lexer": "ipython3",
   "version": "3.11.6"
  }
 },
 "nbformat": 4,
 "nbformat_minor": 5
}
