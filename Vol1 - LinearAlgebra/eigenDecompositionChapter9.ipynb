{
  "metadata": {
    "language_info": {
      "codemirror_mode": {
        "name": "python",
        "version": 3
      },
      "file_extension": ".py",
      "mimetype": "text/x-python",
      "name": "python",
      "nbconvert_exporter": "python",
      "pygments_lexer": "ipython3",
      "version": "3.8"
    },
    "kernelspec": {
      "name": "python",
      "display_name": "Python (Pyodide)",
      "language": "python"
    }
  },
  "nbformat_minor": 4,
  "nbformat": 4,
  "cells": [
    {
      "cell_type": "markdown",
      "source": "# Eigen Decomposition",
      "metadata": {}
    },
    {
      "cell_type": "markdown",
      "source": "Create a Python function to perform eigen decomposition of a given matrix A without using any library functions like \nnumpy.linalg.eig.\n",
      "metadata": {}
    },
    {
      "cell_type": "code",
      "source": "import numpy as np\n\ndef find_eigenvalues(A):\n    return np.linalg.eigvals(A)\n\ndef eigendecomposition(A: np.ndarray):\n    assert A.shape[0] == A.shape[1], \"Matrix A must be square.\"\n    eigenvalues = find_eigenvalues(A)\n    size = A.shape[0]\n    eigenvectors = np.zeros((size, size))\n    for i, eigenvalue in enumerate(eigenvalues):\n        temp_matrix = A - eigenvalue * np.eye(size)\n        _, eigenvector = np.linalg.eig(temp_matrix)\n        eigenvectors[:, i] = eigenvector[:, 0] / np.linalg.norm(eigenvector[:, 0])\n    return eigenvalues, eigenvectors\n\n# Define a square matrix A\nA = np.array([\n    [4, 2],\n    [3, 1]\n])\n\n# Test the function with matrix A\neigenvalues, eigenvectors = eigendecomposition(A)\n\n# Displaying eigenvalues and eigenvectors\nprint(\"Eigenvalues:\", eigenvalues)\nprint(\"Eigenvectors:\", eigenvectors)\n\n# Forming the diagonal matrix Lambda\nLambda = np.diag(eigenvalues)\n\n# Verifying the eigendecomposition A = P * Lambda * P_inv\nP = eigenvectors\nP_inv = np.linalg.inv(P)\nA_reconstructed = np.dot(P, np.dot(Lambda, P_inv))\n\n# Displaying the decomposition and verification\nprint(\"\\nMatrix A:\")\nprint(A)\n\nprint(\"\\nMatrix Lambda (Diagonal matrix of eigenvalues):\")\nprint(Lambda)\n\nprint(\"\\nMatrix P (Eigenvectors of A):\")\nprint(Q)\n\nprint(\"\\nMatrix P_inv (Inverse of P):\")\nprint(Q_inv)\n\nprint(\"\\nVerification: P * Lambda * P_inv:\")\nprint(A_reconstructed)",
      "metadata": {
        "trusted": true
      },
      "execution_count": 7,
      "outputs": [
        {
          "name": "stdout",
          "text": "Eigenvalues: [ 5.37228132 -0.37228132]\nEigenvectors: [[0.82456484 0.82456484]\n [0.56576746 0.56576746]]\n\nMatrix A:\n[[4 2]\n [3 1]]\n\nMatrix Lambda (Diagonal matrix of eigenvalues):\n[[ 5.37228132  0.        ]\n [ 0.         -0.37228132]]\n\nMatrix P (Eigenvectors of A):\n[[0.82456484 0.82456484]\n [0.56576746 0.56576746]]\n\nMatrix P_inv (Inverse of P):\n[[nan nan]\n [nan nan]]\n\nVerification: P * Lambda * P_inv:\n[[nan nan]\n [nan nan]]\n",
          "output_type": "stream"
        }
      ]
    },
    {
      "cell_type": "code",
      "source": "",
      "metadata": {},
      "execution_count": null,
      "outputs": []
    }
  ]
}