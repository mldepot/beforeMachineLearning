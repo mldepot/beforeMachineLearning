{
 "cells": [
  {
   "cell_type": "code",
   "execution_count": 20,
   "id": "4a633b64-4136-4b7b-94c5-368bf66690ec",
   "metadata": {},
   "outputs": [],
   "source": [
    "import numpy as np\n",
    "import matplotlib.pyplot as plt"
   ]
  },
  {
   "cell_type": "markdown",
   "id": "7c38c409-e228-4500-80ff-84c0c4852f35",
   "metadata": {},
   "source": [
    "# Neural Network - Coding Exercises."
   ]
  },
  {
   "cell_type": "markdown",
   "id": "8c03845c-b585-4333-aea7-970df89ec437",
   "metadata": {},
   "source": [
    "## Scalar Functions."
   ]
  },
  {
   "cell_type": "markdown",
   "id": "899d19fc-1529-4f1c-a452-9ea82e3de485",
   "metadata": {},
   "source": [
    "#### 1 - Activation functions, their derivatives and cost functions definitions"
   ]
  },
  {
   "cell_type": "code",
   "execution_count": 21,
   "id": "19f8c31b-7dc2-4e48-909c-495c84a237bc",
   "metadata": {},
   "outputs": [],
   "source": [
    "# Activation functions and their derivatives\n",
    "def sigmoid(x):\n",
    "    return 1 / (1 + np.exp(-x))\n",
    "\n",
    "def sigmoid_derivative(x):\n",
    "    return x * (1 - x)\n",
    "\n",
    "def tanh(x):\n",
    "    return np.tanh(x)\n",
    "\n",
    "def tanh_derivative(x):\n",
    "    return 1.0 - np.tanh(x)**2\n",
    "\n",
    "def relu(x):\n",
    "    return np.maximum(0, x)\n",
    "\n",
    "def relu_derivative(x):\n",
    "    x = np.copy(x)\n",
    "    x[x <= 0] = 0\n",
    "    x[x > 0] = 1\n",
    "    return x\n",
    "\n",
    "# Cross-entropy loss function\n",
    "def cross_entropy_loss(y_true, y_pred):\n",
    "    epsilon = 1e-15\n",
    "    y_pred = np.clip(y_pred, epsilon, 1. - epsilon)\n",
    "    return -np.mean(y_true * np.log(y_pred) + (1 - y_true) * np.log(1 - y_pred))\n",
    "    \n",
    "def mse_loss(y_true, y_pred):\n",
    "    \"\"\"Compute the mean squared error between true and predicted values.\"\"\"\n",
    "    return np.mean((y_true - y_pred)**2)\n",
    "\n",
    "activation_functions = {\n",
    "    'Sigmoid': (sigmoid, sigmoid_derivative),\n",
    "    'Tanh': (tanh, tanh_derivative),\n",
    "    'ReLU': (relu, relu_derivative)\n",
    "}"
   ]
  },
  {
   "cell_type": "markdown",
   "id": "e4c5923a-52c0-4ca2-98d3-3c8846f6db76",
   "metadata": {},
   "source": [
    "#### 1 - create the datasets"
   ]
  },
  {
   "cell_type": "code",
   "execution_count": 22,
   "id": "e5f9eff0-887b-4624-a886-777e885dcc8a",
   "metadata": {},
   "outputs": [],
   "source": [
    "# Data\n",
    "X = np.array([\n",
    "    [3.5, 10],\n",
    "    [4.2, 15],\n",
    "    [2.8, 5],\n",
    "    [5.0, 20],\n",
    "    [3.7, 12],\n",
    "    [4.5, 18],\n",
    "    [3.2, 11],\n",
    "    [4.8, 19],\n",
    "    [3.0, 10],\n",
    "    [4.7, 22]\n",
    "])\n",
    "\n",
    "y = np.array([[0], [1], [0], [1], [0], [1], [0], [1], [0], [1]])\n"
   ]
  },
  {
   "cell_type": "markdown",
   "id": "042a6b0f-816a-44ef-adb9-20f61e6d8ba0",
   "metadata": {},
   "source": [
    "### 1 - Implement a neural network - Neural Network Python Function.\n",
    "\n",
    "#### Neural Network Description\n",
    "\n",
    "The provided neural network training function `train_neural_network` is designed to train a basic neural network with the following specifications:\n",
    "\n",
    "#### Network Architecture:\n",
    "- **Input Layer:** The size of the input layer is determined by the features in the dataset (`input_size`). Each neuron in this layer represents a feature in the dataset.\n",
    "- **Hidden Layer:** There is one hidden layer in the network with a single neuron (`hidden_size = 1`). This simple design is typically only suited for very basic tasks with linearly separable data.\n",
    "- **Output Layer:** A single neuron that outputs the prediction.\n",
    "\n",
    "#### Activation Function:\n",
    "- **Sigmoid Function:** Both the hidden layer and the output layer use the sigmoid activation function. This function outputs values between 0 and 1 and is often used for binary classification tasks.\n",
    "\n",
    "#### Cost Function:\n",
    "- **Cross-Entropy Loss:** The network uses the cross-entropy loss function to quantify the difference between the predicted outputs and the actual labels. This loss function is particularly suited for classification tasks.\n",
    "\n",
    "#### Optimization Algorithm:\n",
    "- **Gradient Descent:** The network parameters (weights and biases) are updated using gradient descent. This optimization algorithm minimizes the loss by adjusting the parameters in the direction that reduces the loss the most.\n",
    "\n",
    "#### Training:\n",
    "- **Epochs:** The network is trained over a specified number of epochs. An epoch is one complete pass through the entire training dataset.\n",
    "- **Learning Rate:** The learning rate controls how much the weights are updated during training. A smaller learning rate requires more epochs to converge, whereas a larger learning rate might converge faster but can overshoot the minimum loss.\n",
    "\n",
    "#### Additional Details:\n",
    "- The network initializes weights and biases randomly using a uniform distribution.\n",
    "- Backpropagation is used to calculate the gradient of the loss function with respect to each weight and bias in the network.\n",
    "- Weights and biases are updated after each forward and backward pass.\n",
    "- The loss is printed every 1000 epochs to monitor the training progress."
   ]
  },
  {
   "cell_type": "code",
   "execution_count": 26,
   "id": "db99824a-bc76-48e2-a74b-93389700c7a0",
   "metadata": {},
   "outputs": [],
   "source": [
    "# Define the neural network training function\n",
    "def train_neural_network(X, y, activation, activation_derivative, learning_rate=0.01, epochs=300):\n",
    "    \"\"\"\n",
    "    Trains a neural network with one hidden layer containing a single neuron.\n",
    "\n",
    "    Args:\n",
    "    - X (numpy array): Training data\n",
    "    - y (numpy array): Labels\n",
    "    - learning_rate (float): Learning rate for the network. Default is 0.01\n",
    "    - epochs (int): Number of training epochs. Default is 10000\n",
    "    \n",
    "    Returns:\n",
    "    - float: Final loss after training\n",
    "    \"\"\"\n",
    "    # Initialize weights and biases\n",
    "    input_size = X.shape[1]\n",
    "    hidden_size = 1\n",
    "    weights_input_hidden = np.random.rand(input_size, hidden_size)\n",
    "    biases_hidden = np.random.rand(1, hidden_size)\n",
    "    weights_hidden_output = np.random.rand(hidden_size, 1)\n",
    "    biases_output = np.random.rand(1, 1)\n",
    "    loss_array = []\n",
    "\n",
    "    # Training loop\n",
    "    for epoch in range(epochs):\n",
    "        # Forward pass\n",
    "        hidden_layer_input = np.dot(X, weights_input_hidden) + biases_hidden\n",
    "        hidden_layer_output = sigmoid(hidden_layer_input)\n",
    "        output_layer_input = np.dot(hidden_layer_output, weights_hidden_output) + biases_output\n",
    "        predicted_output = sigmoid(output_layer_input)\n",
    "\n",
    "        # Compute loss\n",
    "        loss = cross_entropy_loss(y, predicted_output)\n",
    "\n",
    "        # Backpropagation\n",
    "        output_error = y - predicted_output\n",
    "        output_delta = output_error * sigmoid_derivative(predicted_output)\n",
    "        hidden_layer_error = output_delta.dot(weights_hidden_output.T)\n",
    "        hidden_layer_delta = hidden_layer_error * sigmoid_derivative(hidden_layer_output)\n",
    "\n",
    "        # Update weights and biases\n",
    "        weights_hidden_output += hidden_layer_output.T.dot(output_delta) * learning_rate\n",
    "        biases_output += np.sum(output_delta, axis=0, keepdims=True) * learning_rate\n",
    "        weights_input_hidden += X.T.dot(hidden_layer_delta) * learning_rate\n",
    "        biases_hidden += np.sum(hidden_layer_delta, axis=0, keepdims=True) * learning_rate\n",
    "\n",
    "        loss_array.append(loss)\n",
    "\n",
    "    return loss, loss_array\n"
   ]
  },
  {
   "cell_type": "markdown",
   "id": "584ccc94-a93a-4d08-a3e8-6602fc481b0c",
   "metadata": {},
   "source": [
    "### 1 - Implement a neural network - Run the function."
   ]
  },
  {
   "cell_type": "code",
   "execution_count": 27,
   "id": "81dc2cb3-8c25-4713-9371-80bcbfcecdaf",
   "metadata": {},
   "outputs": [
    {
     "name": "stdout",
     "output_type": "stream",
     "text": [
      "Final Loss on Original Data: 0.6931566487861895\n"
     ]
    }
   ],
   "source": [
    "final_loss,loss_array  = train_neural_network(X, y,sigmoid, sigmoid_derivative)\n",
    "print(f\"Final Loss on Original Data: {final_loss}\")\n"
   ]
  },
  {
   "cell_type": "markdown",
   "id": "6a982f78-80e0-42fc-90f1-f4aa9dba6dd7",
   "metadata": {},
   "source": [
    "### 1 - Implement a neural network - Plot the Loss by epoch."
   ]
  },
  {
   "cell_type": "code",
   "execution_count": 28,
   "id": "66a139f7-d0f1-48ab-ac18-2c9a881c9758",
   "metadata": {},
   "outputs": [
    {
     "data": {
      "image/png": "[encoded data removed]",
      "text/plain": [
       "<Figure size 640x480 with 1 Axes>"
      ]
     },
     "metadata": {},
     "output_type": "display_data"
    }
   ],
   "source": [
    "plt.plot(loss_array, color='#005F73')\n",
    "plt.title('Loss by Epoch')\n",
    "plt.xlabel('Epoch')\n",
    "plt.ylabel('Loss')\n",
    "plt.show()"
   ]
  },
  {
   "cell_type": "markdown",
   "id": "a10d5f1c-905c-4255-a79f-f2ba9783d83d",
   "metadata": {},
   "source": [
    "### 2 - Scale the data and train the neural network."
   ]
  },
  {
   "cell_type": "code",
   "execution_count": 29,
   "id": "1180e173-d68d-4520-a542-092c5c5b40ab",
   "metadata": {},
   "outputs": [
    {
     "name": "stdout",
     "output_type": "stream",
     "text": [
      "Training on scaled data:\n",
      "Final Loss on Scaled Data: 0.6924316736275363\n"
     ]
    }
   ],
   "source": [
    "# Min-max scaling\n",
    "X_scaled = (X - np.min(X, axis=0)) / (np.max(X, axis=0) - np.min(X, axis=0))\n",
    "\n",
    "# Retrain the neural network with scaled data\n",
    "print(\"Training on scaled data:\")\n",
    "final_loss, loss_array = train_neural_network(X_scaled, y, sigmoid, sigmoid_derivative)\n",
    "print(f\"Final Loss on Scaled Data: {final_loss}\")\n"
   ]
  },
  {
   "cell_type": "markdown",
   "id": "60a29089-9915-4f65-ba78-09db35e731b4",
   "metadata": {},
   "source": [
    "### 2 - Scale the data and train the neural network results comparison."
   ]
  },
  {
   "cell_type": "markdown",
   "id": "24820d49-29c5-43f8-af53-a59627e491f1",
   "metadata": {},
   "source": [
    "## Model Performance: Original Data vs Scaled Data\n",
    "\n",
    "After training the neural network on both the original dataset and the Min-Max scaled dataset, we observed significant differences in the final loss:\n",
    "\n",
    "- **Final Loss on Original Data:** `0.6931566487861895`\n",
    "- **Final Loss on Scaled Data:** `0.6924316736275363`\n",
    "\n",
    "### Observations:\n",
    "\n",
    "1. **Loss Reduction:** There is a  slight decrease in the loss when using the Min-Max scaled data. This indicates that the model is able to make more accurate predictions on the scaled data.\n",
    "\n",
    "2. **Convergence Speed:** Typically, scaled data helps the optimization algorithm to converge faster. Although not directly observable from the final loss values, scaling could potentially lead to a quicker convergence to the optimal parameters.\n",
    "\n",
    "3. **Learning Dynamics:** The scaling of features ensures that each feature contributes proportionally to the final prediction. This could prevent issues where large-valued features dominate the learning process, potentially improving the training dynamics.\n",
    "\n",
    "4. **Impact of Min-Max Scaling:** By scaling the features to a common scale, the neural network is likely experiencing a more gentle and well-behaved gradient descent process. Features are on an equal footing, which avoids the optimization paths being skewed, making the learning process more stable and efficient.\n",
    "\n",
    "### Conclusion:\n",
    "\n",
    "The application of Min-Max scaling has markedly improved the performance of our neural network model. It highlights the importance of appropriate data preprocessing steps in machine learning pipelines. Such preprocessing can be the difference between a poorly performing model and one that achieves high accuracy.\n",
    "\n"
   ]
  },
  {
   "cell_type": "markdown",
   "id": "76d28bbc-c6a8-4a99-a6c8-01314a7c2e39",
   "metadata": {},
   "source": [
    " "
   ]
  },
  {
   "cell_type": "markdown",
   "id": "d9a39018-e988-4047-be65-4972f3ba21f2",
   "metadata": {},
   "source": [
    "### 3 - Experimenting with different activation functions.\n",
    "\n",
    "In this experiment, we aim to explore the effects of different activation functions on the performance of a simple neural network. The network is trained on scaled data, and we will compare the following activation functions:\n",
    "\n",
    "- **Sigmoid**: A function that outputs values between 0 and 1, typically used for binary classification tasks.\n",
    "- **Tanh**: The hyperbolic tangent function that outputs values between -1 and 1. It centers the data, potentially leading to faster convergence.\n",
    "- **ReLU**: The Rectified Linear Unit function, which outputs the input directly if positive, else it will output zero. It's widely used due to its computational efficiency and sparsity induction.\n",
    "\n",
    "We will evaluate the performance of the network using each activation function by observing the final cross-entropy loss after training. The goal is to determine the most effective activation function for our dataset, which consists of scaled features.\n",
    "\n",
    "Each activation function will bring its own dynamics to the learning process, and the final losses will give us insight into which function enables the neural network to better capture the relationship between the input features and the target variable.\n",
    "\n"
   ]
  },
  {
   "cell_type": "markdown",
   "id": "843e79ee-72bf-4aee-a7c8-871c9875523d",
   "metadata": {},
   "source": [
    "### 3 - Experimenting with different activation functions - Python function."
   ]
  },
  {
   "cell_type": "code",
   "execution_count": 30,
   "id": "d641f389-4d5c-43cb-9599-882db55108b0",
   "metadata": {},
   "outputs": [],
   "source": [
    "# Training function for the neural network\n",
    "def train_neural_network(X, y, activation, activation_derivative, learning_rate=0.01, epochs=300):\n",
    "    np.random.seed(42)  # for reproducibility\n",
    "    input_size = X.shape[1]\n",
    "    hidden_size = 1\n",
    "    output_size = 1\n",
    "\n",
    "    weights_input_hidden = np.random.randn(input_size, hidden_size)\n",
    "    biases_hidden = np.random.randn(hidden_size)\n",
    "    weights_hidden_output = np.random.randn(hidden_size, output_size)\n",
    "    biases_output = np.random.randn(output_size)\n",
    "\n",
    "    loss_history = []\n",
    "\n",
    "    for epoch in range(epochs):\n",
    "        # Forward pass\n",
    "        hidden_layer_input = np.dot(X, weights_input_hidden) + biases_hidden\n",
    "        hidden_layer_output = activation(hidden_layer_input)\n",
    "\n",
    "        output_layer_input = np.dot(hidden_layer_output, weights_hidden_output) + biases_output\n",
    "        predicted_output = sigmoid(output_layer_input)\n",
    "\n",
    "        # Compute loss\n",
    "        loss = cross_entropy_loss(y, predicted_output)\n",
    "        loss_history.append(loss)\n",
    "\n",
    "        # Backpropagation\n",
    "        output_error = y - predicted_output\n",
    "        output_delta = output_error * sigmoid_derivative(predicted_output)\n",
    "\n",
    "        hidden_layer_error = output_delta.dot(weights_hidden_output.T)\n",
    "        hidden_layer_delta = hidden_layer_error * activation_derivative(hidden_layer_output)\n",
    "\n",
    "        # Update weights and biases\n",
    "        weights_hidden_output += hidden_layer_output.T.dot(output_delta) * learning_rate\n",
    "        biases_output += np.sum(output_delta, axis=0) * learning_rate\n",
    "        weights_input_hidden += X.T.dot(hidden_layer_delta) * learning_rate\n",
    "        biases_hidden += np.sum(hidden_layer_delta, axis=0) * learning_rate\n",
    "\n",
    "    return loss_history"
   ]
  },
  {
   "cell_type": "markdown",
   "id": "ba04f57b-a0d3-4808-8998-918d05ca6c99",
   "metadata": {},
   "source": [
    "### 3 - Experimenting with different activation functions - Run function print Losses."
   ]
  },
  {
   "cell_type": "code",
   "execution_count": 31,
   "id": "8801b690-38c6-44b5-bb70-feacaae16932",
   "metadata": {},
   "outputs": [
    {
     "name": "stdout",
     "output_type": "stream",
     "text": [
      "\n",
      "Training with Sigmoid activation function:\n",
      "Final Loss with Sigmoid: 0.6637237648437987\n",
      "----------------------------------------\n",
      "\n",
      "Training with Tanh activation function:\n",
      "Final Loss with Tanh: 0.4300625897529737\n",
      "----------------------------------------\n",
      "\n",
      "Training with ReLU activation function:\n",
      "Final Loss with ReLU: 0.3781876146061142\n",
      "----------------------------------------\n"
     ]
    }
   ],
   "source": [
    "# Store the losses for each activation function\n",
    "losses_by_activation = {}\n",
    "# Train the network with different activation functions and store the loss histories\n",
    "for name, (activation, derivative) in activation_functions.items():\n",
    "    print(f\"\\nTraining with {name} activation function:\")\n",
    "    losses_by_activation[name] = train_neural_network(X_scaled, y, activation, derivative)\n",
    "    print(f\"Final Loss with {name}: {losses_by_activation[name][-1]}\")\n",
    "    print('----------------------------------------')"
   ]
  },
  {
   "cell_type": "markdown",
   "id": "5c7e9e6b-2c0c-47cb-a12e-1b96f8583a90",
   "metadata": {},
   "source": [
    "### 3 - Experimenting with different activation functions - Plot Losses."
   ]
  },
  {
   "cell_type": "code",
   "execution_count": 32,
   "id": "eb161075-b7e7-4c22-a847-1b2560d1b24e",
   "metadata": {},
   "outputs": [
    {
     "data": {
      "text/plain": [
       "<function matplotlib.pyplot.show(close=None, block=None)>"
      ]
     },
     "execution_count": 32,
     "metadata": {},
     "output_type": "execute_result"
    },
    {
     "data": {
      "image/png": "[encoded data removed]",
      "text/plain": [
       "<Figure size 1200x800 with 1 Axes>"
      ]
     },
     "metadata": {},
     "output_type": "display_data"
    }
   ],
   "source": [
    "# Plotting the loss for each activation function\n",
    "plt.figure(figsize=(12, 8))\n",
    "for name, loss_history in losses_by_activation.items():\n",
    "    plt.plot(loss_history, label=f'{name} Activation')\n",
    "plt.title('Loss by Epoch for Various Activation Functions')\n",
    "plt.xlabel('Epochs')\n",
    "plt.ylabel('Cross-Entropy Loss')\n",
    "plt.legend()\n",
    "plt.show"
   ]
  },
  {
   "cell_type": "markdown",
   "id": "0804a85d-d176-473d-9cd4-cef0ea05dffc",
   "metadata": {},
   "source": [
    "### 3 - Experimenting with different activation functions - Analysis.\n",
    "In this experiment, various activation functions were applied to a single hidden layer neural network trained on a dataset scaled with the Min-Max scaling technique. The activation functions tested were `Sigmoid`, `Tanh`, and `ReLU`. The performance of each was measured using the final loss after training.\n",
    "\n",
    "#### Experiment Results\n",
    "\n",
    "- **Sigmoid Activation Function:**\n",
    "  - Final Loss: 0.6637237648437987\n",
    "  - The sigmoid function has a smooth gradient and outputs a value between 0 and 1, making it suitable for binary classification problems.\n",
    "  \n",
    "- **Tanh Activation Function:**\n",
    "  - Final Loss: 0.4300625897529737\n",
    "  - Tanh is a rescaled version of the sigmoid, and its output ranges from -1 to 1. It generally performs better than sigmoid for hidden layers because it centers the data, improving the efficiency of gradient descent.\n",
    "  \n",
    "- **ReLU Activation Function:**\n",
    "  - Final Loss: 0.3781876146061142\n",
    "  - ReLU (Rectified Linear Unit) provides a linear output for positive inputs and zero for negative inputs. It is less computationally intensive and often leads to faster convergence. However, it can suffer from the \"dying ReLU\" problem where neurons can become inactive and only output zero.\n",
    "\n",
    "#### Optimal Configuration and Justification\n",
    "\n",
    "Based on the final loss, the **Tanh activation function** yielded the best results among the three activation functions tested. It produced the lowest loss, suggesting that for this specific dataset and neural network configuration, it was the most effective at facilitating the learning process.\n",
    "\n",
    "### Conclusion\n",
    "\n",
    "The results of this experiment suggest that the Relu activation function is the most suitable for our specific model and dataset. However, it is important to recognize that the choice of activation function can depend heavily on the specific characteristics of the dataset and the overall goal of the model. Therefore, while Tanh was the best choice in this context, it may not be universally the best option across different scenarios or more complex network architectures. Experimentation and cross-validation remain key in selecting the optimal activation function for any given neural network task.\n"
   ]
  },
  {
   "cell_type": "markdown",
   "id": "870efba9-4dbc-4c2b-9528-eee1c1bb21b4",
   "metadata": {},
   "source": [
    " "
   ]
  },
  {
   "cell_type": "markdown",
   "id": "04acec55-3c6c-47a2-a7e6-56647005f14e",
   "metadata": {},
   "source": [
    "### 4 - Train the Neural Network with RMSprop "
   ]
  },
  {
   "cell_type": "markdown",
   "id": "b763b23e-8a65-418d-b465-7eb3fba1ffc9",
   "metadata": {},
   "source": [
    "#### RMSProp Optimization Algorithm\n",
    "\n",
    "RMSProp, which stands for Root Mean Square Propagation, is an adaptive learning rate optimization algorithm designed to address some of the deficiencies of the gradient descent algorithm. It was proposed by Geoffrey Hinton in his Coursera class.\n",
    "\n",
    "#### Key Features of RMSProp:\n",
    "\n",
    "- **Adaptive Learning Rates**: Unlike traditional gradient descent, RMSProp adjusts the learning rate for each individual parameter based on the magnitudes of its gradients. This means that parameters with large gradients will have their learning rate decreased, while parameters with small gradients will have their learning rate increased.\n",
    "\n",
    "- **Moving Average of Squared Gradients**: RMSProp maintains a moving average of the squared gradients for each weight, which is used to normalize the gradient step. This helps in stabilizing the optimization process.\n",
    "\n",
    "- **Preventing Vanishing or Exploding Gradients**: By dividing the learning rate by an exponentially decaying average of squared gradients, RMSProp keeps the learning rate in an optimal range throughout the training process.\n",
    "\n",
    "#### The RMSProp Update Rule:\n",
    "\n",
    "The update rule for RMSProp is as follows:\n",
    "\n",
    "$$\n",
    "\\begin{align*}\n",
    "E[g^2]_t &= \\beta E[g^2]_{t-1} + (1 - \\beta) g_t^2 \\\\\n",
    "\\theta_{t+1} &= \\theta_t - \\frac{\\eta}{\\sqrt{E[g^2]_t + \\epsilon}} g_t\n",
    "\\end{align*}\n",
    "$$\n",
    "\n",
    "where:\n",
    "- $ E[g^2]_t $ is the moving average of the squared gradients at time step $ t $,\n",
    "- $ \\beta $ is the decay rate (usually set to 0.9),\n",
    "- $ g_t $ is the gradient at time step $ t $,\n",
    "- $ \\theta $ represents the parameters of the model,\n",
    "- $ \\eta $ is the learning rate, and\n",
    "- $ \\epsilon $ is a small constant (like $ 1e-8 $) added to improve numerical stability.\n",
    "\n",
    "This adaptive nature of RMSProp makes it suitable for dealing with non-stationary objectives and problems with very noisy or sparse gradients.\n"
   ]
  },
  {
   "cell_type": "markdown",
   "id": "890f1c94-72fa-4085-a060-8b06ce55a344",
   "metadata": {},
   "source": [
    "### 4 - Train the Neural Network with RMSprop - Python Function."
   ]
  },
  {
   "cell_type": "code",
   "execution_count": 33,
   "id": "8d0c8c8d-3e2b-4d4a-aa02-e7319fa45698",
   "metadata": {},
   "outputs": [],
   "source": [
    "# Define the RMSprop neural network training function\n",
    "def train_neural_network_rmsprop(X, y, activation, activation_derivative, learning_rate=0.01, epochs=10000, beta=0.9, epsilon=1e-8):\n",
    "    # Initialize the number of nodes in the input layer based on the dataset features\n",
    "    input_size = X.shape[1]\n",
    "    # Define the number of nodes in the hidden layer\n",
    "    hidden_size = 1\n",
    "\n",
    "    # Randomly initialize weights and biases for input to hidden layer transformation\n",
    "    weights_input_hidden = np.random.rand(input_size, hidden_size)\n",
    "    biases_hidden = np.random.rand(1, hidden_size)\n",
    "\n",
    "    # Randomly initialize weights and biases for hidden to output layer transformation\n",
    "    weights_hidden_output = np.random.rand(hidden_size, 1)\n",
    "    biases_output = np.random.rand(1, 1)\n",
    "    \n",
    "    # Initialize cache terms for RMSprop (all zeros to start)\n",
    "    cache_weights_input_hidden = np.zeros((input_size, hidden_size))\n",
    "    cache_biases_hidden = np.zeros((1, hidden_size))\n",
    "    cache_weights_hidden_output = np.zeros((hidden_size, 1))\n",
    "    cache_biases_output = np.zeros((1, 1))\n",
    "    losses_array =[]\n",
    "    \n",
    "    # Training loop\n",
    "    for epoch in range(epochs):\n",
    "        # Forward pass: compute the inputs and activations for the hidden layer\n",
    "        hidden_layer_input = np.dot(X, weights_input_hidden) + biases_hidden\n",
    "        hidden_layer_output = activation(hidden_layer_input)\n",
    "\n",
    "        # Forward pass: compute the inputs and activations for the output layer\n",
    "        output_layer_input = np.dot(hidden_layer_output, weights_hidden_output) + biases_output\n",
    "        predicted_output = activation(output_layer_input)\n",
    "        \n",
    "        # Calculate the loss between the predicted output and the true labels\n",
    "        loss = cross_entropy_loss(y, predicted_output)\n",
    "        \n",
    "        # Backpropagation phase 1: calculate the difference between actual and predicted outputs\n",
    "        output_error = y - predicted_output\n",
    "        # Apply derivative of activation to error term\n",
    "        output_delta = output_error * activation_derivative(predicted_output)\n",
    "        \n",
    "        # Backpropagation phase 2: calculate how much the hidden layer contributed to the output error\n",
    "        hidden_layer_error = output_delta.dot(weights_hidden_output.T)\n",
    "        # Apply derivative of activation to error term\n",
    "        hidden_layer_delta = hidden_layer_error * activation_derivative(hidden_layer_output)\n",
    "        \n",
    "        # RMSprop cache update for weights and biases\n",
    "        # Compute the squared gradient average for the output layer\n",
    "        cache_weights_hidden_output = beta * cache_weights_hidden_output + (1 - beta) * (output_delta ** 2).mean(axis=0)\n",
    "        cache_biases_output = beta * cache_biases_output + (1 - beta) * (output_delta ** 2).mean(axis=0)\n",
    "        # Compute the squared gradient average for the hidden layer\n",
    "        cache_weights_input_hidden = beta * cache_weights_input_hidden + (1 - beta) * ((hidden_layer_delta ** 2).T @ (X ** 2)).mean(axis=1).reshape(-1, 1)\n",
    "        cache_biases_hidden = beta * cache_biases_hidden + (1 - beta) * (hidden_layer_delta ** 2).mean(axis=0)\n",
    "        \n",
    "        # Update weights and biases using RMSprop optimization algorithm\n",
    "        weights_hidden_output += (learning_rate / (np.sqrt(cache_weights_hidden_output) + epsilon)) * hidden_layer_output.T.dot(output_delta)\n",
    "        biases_output += (learning_rate / (np.sqrt(cache_biases_output) + epsilon)) * np.sum(output_delta, axis=0, keepdims=True)\n",
    "        weights_input_hidden += (learning_rate / (np.sqrt(cache_weights_input_hidden) + epsilon)) * X.T.dot(hidden_layer_delta)\n",
    "        biases_hidden += (learning_rate / (np.sqrt(cache_biases_hidden) + epsilon)) * np.sum(hidden_layer_delta, axis=0, keepdims=True)\n",
    "        losses_array.append(loss)\n",
    "    \n",
    "    # Return the trained weights and biases, as well as the final loss value\n",
    "    return loss,losses_array\n"
   ]
  },
  {
   "cell_type": "markdown",
   "id": "90ab12fe-7a64-4184-b083-cb539df705c9",
   "metadata": {},
   "source": [
    "### 4 - Train the Neural Network with RMSprop - Run the function."
   ]
  },
  {
   "cell_type": "code",
   "execution_count": 35,
   "id": "bdb08c2a-9811-49cb-a64b-76b2cf7ced09",
   "metadata": {},
   "outputs": [
    {
     "name": "stdout",
     "output_type": "stream",
     "text": [
      "Final Loss with RMSprop: 0.16499686614094583\n"
     ]
    }
   ],
   "source": [
    "# Train the network using RMSprop\n",
    "final_loss,losses_array = train_neural_network_rmsprop(\n",
    "    X_scaled, y, sigmoid, sigmoid_derivative, learning_rate=0.01, epochs=300\n",
    ")\n",
    "\n",
    "print(f\"Final Loss with RMSprop: {final_loss}\")\n"
   ]
  },
  {
   "cell_type": "markdown",
   "id": "4d1c21d9-3671-4696-ab10-c000b8258ebc",
   "metadata": {},
   "source": [
    "### 4 - Train the Neural Network with RMSprop - Plot the losses."
   ]
  },
  {
   "cell_type": "code",
   "execution_count": 36,
   "id": "d206975e-8a48-421a-9add-29f5e34a525e",
   "metadata": {},
   "outputs": [
    {
     "data": {
      "image/png": "[encoded data removed]",
      "text/plain": [
       "<Figure size 640x480 with 1 Axes>"
      ]
     },
     "metadata": {},
     "output_type": "display_data"
    }
   ],
   "source": [
    "plt.plot(loss_array, color='#005F73')\n",
    "plt.title('Loss by Epoch')\n",
    "plt.xlabel('Epoch')\n",
    "plt.ylabel('Loss')\n",
    "plt.show()"
   ]
  },
  {
   "cell_type": "markdown",
   "id": "d096092a-e72f-4f97-87ab-511b42370535",
   "metadata": {},
   "source": [
    "### 5 - Add another hidder layer and train the Neural Network with RMSprop."
   ]
  },
  {
   "cell_type": "code",
   "execution_count": 37,
   "id": "237437c0-3f88-431a-a90c-d1670d13f8fb",
   "metadata": {},
   "outputs": [],
   "source": [
    "# RMSprop neural network training function with two hidden layers\n",
    "def train_neural_network_rmsprop_2_hidden_layers(X, y, activation, activation_derivative, learning_rate=0.001, epochs=10000, beta=0.9, epsilon=1e-8):\n",
    "    # Initialize the number of nodes in each layer\n",
    "    input_size = X.shape[1]\n",
    "    hidden_size_1 = 5  # Size of the first hidden layer\n",
    "    hidden_size_2 = 3  # Size of the second hidden layer\n",
    "\n",
    "    # Randomly initialize weights and biases for all transformations\n",
    "    weights_input_hidden_1 = np.random.randn(input_size, hidden_size_1)\n",
    "    biases_hidden_1 = np.random.randn(1, hidden_size_1)\n",
    "    weights_hidden_1_hidden_2 = np.random.randn(hidden_size_1, hidden_size_2)\n",
    "    biases_hidden_2 = np.random.randn(1, hidden_size_2)\n",
    "    weights_hidden_2_output = np.random.randn(hidden_size_2, 1)\n",
    "    biases_output = np.random.randn(1, 1)\n",
    "    \n",
    "    # Initialize RMSprop caches\n",
    "    cache_weights_input_hidden_1 = np.zeros_like(weights_input_hidden_1)\n",
    "    cache_biases_hidden_1 = np.zeros_like(biases_hidden_1)\n",
    "    cache_weights_hidden_1_hidden_2 = np.zeros_like(weights_hidden_1_hidden_2)\n",
    "    cache_biases_hidden_2 = np.zeros_like(biases_hidden_2)\n",
    "    cache_weights_hidden_2_output = np.zeros_like(weights_hidden_2_output)\n",
    "    cache_biases_output = np.zeros_like(biases_output)\n",
    "    losses_array = []\n",
    "    # Training loop\n",
    "    for epoch in range(epochs):\n",
    "        # Forward pass to the first hidden layer\n",
    "        hidden_layer_1_input = np.dot(X, weights_input_hidden_1) + biases_hidden_1\n",
    "        hidden_layer_1_output = activation(hidden_layer_1_input)\n",
    "\n",
    "        # Forward pass to the second hidden layer\n",
    "        hidden_layer_2_input = np.dot(hidden_layer_1_output, weights_hidden_1_hidden_2) + biases_hidden_2\n",
    "        hidden_layer_2_output = activation(hidden_layer_2_input)\n",
    "\n",
    "        # Forward pass to the output layer\n",
    "        output_layer_input = np.dot(hidden_layer_2_output, weights_hidden_2_output) + biases_output\n",
    "        predicted_output = activation(output_layer_input)\n",
    "        \n",
    "        # Calculate the loss\n",
    "        loss = cross_entropy_loss(y, predicted_output)\n",
    "        \n",
    "        # Backpropagation for output layer\n",
    "        output_error = y - predicted_output\n",
    "        output_delta = output_error * activation_derivative(predicted_output)\n",
    "        \n",
    "        # Backpropagation for the second hidden layer\n",
    "        hidden_layer_2_error = output_delta.dot(weights_hidden_2_output.T)\n",
    "        hidden_layer_2_delta = hidden_layer_2_error * activation_derivative(hidden_layer_2_output)\n",
    "\n",
    "        # Backpropagation for the first hidden layer\n",
    "        hidden_layer_1_error = hidden_layer_2_delta.dot(weights_hidden_1_hidden_2.T)\n",
    "        hidden_layer_1_delta = hidden_layer_1_error * activation_derivative(hidden_layer_1_output)\n",
    "        \n",
    "        # RMSprop updates for weights and biases from second hidden to output layer\n",
    "        cache_weights_hidden_2_output = beta * cache_weights_hidden_2_output + (1 - beta) * np.mean(output_delta ** 2, axis=0)\n",
    "        weights_hidden_2_output += learning_rate / (np.sqrt(cache_weights_hidden_2_output) + epsilon) * hidden_layer_2_output.T.dot(output_delta)\n",
    "        cache_biases_output = beta * cache_biases_output + (1 - beta) * np.mean(output_delta ** 2, axis=0)\n",
    "        biases_output += learning_rate / (np.sqrt(cache_biases_output) + epsilon) * np.mean(output_delta, axis=0)\n",
    "\n",
    "        # RMSprop updates for weights and biases from first to second hidden layer\n",
    "        cache_weights_hidden_1_hidden_2 = beta * cache_weights_hidden_1_hidden_2 + (1 - beta) * np.mean(hidden_layer_2_delta ** 2, axis=0)\n",
    "        weights_hidden_1_hidden_2 += learning_rate / (np.sqrt(cache_weights_hidden_1_hidden_2) + epsilon) * hidden_layer_1_output.T.dot(hidden_layer_2_delta)\n",
    "        cache_biases_hidden_2 = beta * cache_biases_hidden_2 + (1 - beta) * np.mean(hidden_layer_2_delta ** 2, axis=0)\n",
    "        biases_hidden_2 += learning_rate / (np.sqrt(cache_biases_hidden_2) + epsilon) * np.mean(hidden_layer_2_delta, axis=0)\n",
    "\n",
    "        # RMSprop updates for weights and biases from input to first hidden layer\n",
    "        cache_weights_input_hidden_1 = beta * cache_weights_input_hidden_1 + (1 - beta) * np.mean(hidden_layer_1_delta ** 2, axis=0)\n",
    "        weights_input_hidden_1 += learning_rate / (np.sqrt(cache_weights_input_hidden_1) + epsilon) * X.T.dot(hidden_layer_1_delta)\n",
    "        cache_biases_hidden_1 = beta * cache_biases_hidden_1 + (1 - beta) * np.mean(hidden_layer_1_delta ** 2, axis=0)\n",
    "        biases_hidden_1 += learning_rate / (np.sqrt(cache_biases_hidden_1) + epsilon) * np.mean(hidden_layer_1_delta, axis=0)\n",
    "        \n",
    "        losses_array.append(loss)\n",
    "    \n",
    "    # Return the trained weights and biases, as well as the final loss value\n",
    "    return loss,losses_array\n"
   ]
  },
  {
   "cell_type": "code",
   "execution_count": 38,
   "id": "739c6ae8-047f-4810-9a66-58b99ac59b37",
   "metadata": {},
   "outputs": [
    {
     "name": "stdout",
     "output_type": "stream",
     "text": [
      "Final Loss with RMSprop 2 hidden layers: 0.1759719699174861\n"
     ]
    }
   ],
   "source": [
    "final_loss,losses_array = train_neural_network_rmsprop_2_hidden_layers(\n",
    "    X_scaled, y, sigmoid, sigmoid_derivative, learning_rate=0.01, epochs=300\n",
    ")\n",
    "print(f\"Final Loss with RMSprop 2 hidden layers: {final_loss}\")\n"
   ]
  },
  {
   "cell_type": "markdown",
   "id": "c4103aa8-4975-477d-a239-6ec39a38f061",
   "metadata": {},
   "source": [
    "## 7.12.2 Vector Functions."
   ]
  },
  {
   "cell_type": "markdown",
   "id": "07bf8f4b-85eb-460c-9ece-df0adc2cd79d",
   "metadata": {},
   "source": [
    "### Create the dataset and scale it."
   ]
  },
  {
   "cell_type": "code",
   "execution_count": 39,
   "id": "b2e4d47f-43fa-4a25-ad9c-733c7af2412e",
   "metadata": {},
   "outputs": [],
   "source": [
    "\n",
    "# Define the data as a NumPy array\n",
    "data = np.array([\n",
    "    [3.5, 10, 5, 8, 45],\n",
    "    [4.2, 15, 7, 10, 50],\n",
    "    [2.8, 5, 4, 5, 30],\n",
    "    [5.0, 20, 9, 15, 60],\n",
    "    [3.7, 12, 6, 9, 42],\n",
    "    [4.5, 18, 8, 13, 55],\n",
    "    [3.2, 11, 5, 7, 38],\n",
    "    [4.8, 19, 8, 14, 58],\n",
    "    [3.0, 10, 4, 6, 35],\n",
    "    [4.7, 22, 9, 16, 65],\n",
    "])\n",
    "\n",
    "# Normalize the data using Min-Max scaling\n",
    "X = data[:, :4]  # Features (first four columns)\n",
    "y = data[:, 4:]  # Labels (last column)\n",
    "\n",
    "X_min = X.min(axis=0)\n",
    "X_max = X.max(axis=0)\n",
    "X_scaled = (X - X_min) / (X_max - X_min)\n",
    "\n",
    "y_min = y.min(axis=0)\n",
    "y_max = y.max(axis=0)\n",
    "y_scaled = (y - y_min) / (y_max - y_min)\n",
    "\n"
   ]
  },
  {
   "cell_type": "markdown",
   "id": "01d99ba4-ff53-4d10-afad-9483681ffaca",
   "metadata": {},
   "source": [
    "### 1 - Neural Network with Momentum."
   ]
  },
  {
   "cell_type": "markdown",
   "id": "18cf4368-a4ce-42d0-8553-0f2f44595b0b",
   "metadata": {},
   "source": [
    "### Momentum Optimization Algorithm\n",
    "\n",
    "The Momentum optimization algorithm is designed to accelerate the convergence of gradient descent by incorporating the 'momentum' of the gradients. In physics, momentum is the product of mass and velocity, and it is a vector quantity indicating the direction and strength of the object's movement.\n",
    "\n",
    "In the context of gradient descent, the 'velocity' represents the direction and magnitude of the parameter updates. With Momentum, we simulate this by adding a fraction of the previous update to the current update. This approach helps to amplify the updates in directions where the gradient consistently points in the same direction and dampens the updates in directions where the gradient changes rapidly, reducing oscillations and leading to faster convergence.\n",
    "\n",
    "### The algorithm\n",
    "\n",
    "At each iteration, the momentum update rule is as follows:\n",
    "\n",
    "1. Compute the gradient of the loss function with respect to the parameters.\n",
    "2. Update the velocity term by combining the previous velocity and the current gradient (scaled by the learning rate).\n",
    "3. Update the parameters by adding the new velocity to the current parameters.\n",
    "\n",
    "The update equations are given by:\n",
    "\n",
    "$$ v_{t} = \\gamma v_{t-1} + \\eta \\nabla_{\\theta}J(\\theta) $$\n",
    "$$\\theta = \\theta + v_{t} $$\n",
    "\n",
    "Where:\n",
    "- $ \\theta $ are the parameters of the model (weights and biases).\n",
    "- $ J(\\theta) $ is the loss function.\n",
    "- $ \\nabla_{\\theta}J(\\theta) $ is the gradient of the loss function.\n",
    "- $ \\eta $ is the learning rate.\n",
    "- $ \\gamma $ is the momentum coefficient, typically set between 0.9 and 0.99.\n",
    "- $ v_{t} $ is the velocity at time step \\( t \\).\n",
    "\n",
    "The momentum coefficient $ \\gamma $ determines the contribution of the previous velocity to the current update. A common value for $ \\gamma $ is 0.9, meaning that the current velocity is largely influenced by the last update, which encourages the gradient descent process to continue moving in the same direction and to gain speed in steady downhill slopes of the loss landscape.\n",
    "\n"
   ]
  },
  {
   "cell_type": "markdown",
   "id": "411c7845-f8b0-46b3-a339-8634ea7d7007",
   "metadata": {},
   "source": [
    "## 1 - Neural Network with Momentum - Python code."
   ]
  },
  {
   "cell_type": "code",
   "execution_count": 42,
   "id": "5544ecf8-bfaa-4a5f-bd19-dfaabd902cf5",
   "metadata": {},
   "outputs": [],
   "source": [
    "# Define the neural network training function using the Momentum optimization algorithm\n",
    "def train_neural_network_momentum(X, y, activation, activation_derivative, learning_rate=0.01, epochs=10000, momentum=0.9):\n",
    "    input_size = X.shape[1]  # Number of features\n",
    "    hidden_size = 2  # Number of neurons in the hidden layer\n",
    "    output_size = y.shape[1]  # Number of outputs\n",
    "\n",
    "    # Initialize weights and biases with random values\n",
    "    weights_input_hidden = np.random.rand(input_size, hidden_size)\n",
    "    biases_hidden = np.random.rand(1, hidden_size)\n",
    "    weights_hidden_output = np.random.rand(hidden_size, output_size)\n",
    "    biases_output = np.random.rand(1, output_size)\n",
    "\n",
    "    # Initialize the Momentum terms\n",
    "    velocity_wih = np.zeros_like(weights_input_hidden)\n",
    "    velocity_bh = np.zeros_like(biases_hidden)\n",
    "    velocity_who = np.zeros_like(weights_hidden_output)\n",
    "    velocity_bo = np.zeros_like(biases_output)\n",
    "\n",
    "    losses_array = []\n",
    "\n",
    "    # Training loop\n",
    "    for epoch in range(epochs):\n",
    "        # Forward pass\n",
    "        hidden_layer_input = np.dot(X, weights_input_hidden) + biases_hidden\n",
    "        hidden_layer_output = activation(hidden_layer_input)\n",
    "        final_output = np.dot(hidden_layer_output, weights_hidden_output) + biases_output\n",
    "\n",
    "        # Compute loss\n",
    "        loss = mse_loss(y, final_output)\n",
    "\n",
    "        # Backward pass\n",
    "        output_error = y - final_output\n",
    "        output_delta = output_error * activation_derivative(final_output)\n",
    "\n",
    "        hidden_error = output_delta.dot(weights_hidden_output.T)\n",
    "        hidden_delta = hidden_error * activation_derivative(hidden_layer_output)\n",
    "\n",
    "        # Calculate the gradients\n",
    "        gradient_wih = X.T.dot(hidden_delta)\n",
    "        gradient_bh = np.sum(hidden_delta, axis=0, keepdims=True)\n",
    "        gradient_who = hidden_layer_output.T.dot(output_delta)\n",
    "        gradient_bo = np.sum(output_delta, axis=0, keepdims=True)\n",
    "\n",
    "        # Update the Momentum terms\n",
    "        velocity_wih = momentum * velocity_wih + learning_rate * gradient_wih\n",
    "        velocity_bh = momentum * velocity_bh + learning_rate * gradient_bh\n",
    "        velocity_who = momentum * velocity_who + learning_rate * gradient_who\n",
    "        velocity_bo = momentum * velocity_bo + learning_rate * gradient_bo\n",
    "\n",
    "        # Update weights and biases using Momentum\n",
    "        weights_input_hidden += velocity_wih\n",
    "        biases_hidden += velocity_bh\n",
    "        weights_hidden_output += velocity_who\n",
    "        biases_output += velocity_bo\n",
    "\n",
    "        losses_array.append(loss)\n",
    "\n",
    "    return loss, losses_array"
   ]
  },
  {
   "cell_type": "markdown",
   "id": "6df439f4-1d52-46ea-9c77-46a520237d39",
   "metadata": {},
   "source": [
    "## 1 - Neural Network with Momentum - Run the code."
   ]
  },
  {
   "cell_type": "code",
   "execution_count": 44,
   "id": "c981e368-6eb1-4c17-8b34-f67139667bec",
   "metadata": {},
   "outputs": [
    {
     "name": "stdout",
     "output_type": "stream",
     "text": [
      "Final Loss with Momentum: 0.1759719699174861\n"
     ]
    }
   ],
   "source": [
    "losses = train_neural_network_momentum(\n",
    "    X_scaled, y_scaled, sigmoid, sigmoid_derivative, learning_rate=0.01, epochs=300, momentum=0.9\n",
    ")\n",
    "\n",
    "print(f\"Final Loss with Momentum: {final_loss}\")\n"
   ]
  },
  {
   "cell_type": "markdown",
   "id": "786c642f-d201-4bdc-8d14-9fc2cdb76f08",
   "metadata": {},
   "source": [
    "## 2 - Neural Network with ADAM"
   ]
  },
  {
   "cell_type": "markdown",
   "id": "07ff079c-2adb-4a98-8e3f-cf7d60c9415a",
   "metadata": {},
   "source": [
    "### ADAM Optimizer in Neural Networks\n",
    "\n",
    "ADAM (Adaptive Moment Estimation) is an optimization algorithm that can be used instead of the classical stochastic gradient descent procedure to update network weights iteratively based on training data.\n",
    "\n",
    "### Key Features of ADAM\n",
    "\n",
    "- **Adaptive Learning Rate**: ADAM calculates an adaptive learning rate for each parameter. In contrast to classical stochastic gradient descent, ADAM maintains a per-parameter learning rate that improves performance on problems with sparse gradients (e.g., natural language and computer vision problems).\n",
    "\n",
    "- **Moment Estimation**: It keeps an exponentially decaying average of past gradients (first moment), similar to momentum, and also an exponentially decaying average of past squared gradients (second moment).\n",
    "\n",
    "- **Bias Correction**: In the initial time steps, the first and second moment estimates are biased towards zero, leading to a biased estimation of the moments. ADAM performs bias corrections to these estimates to counteract this effect.\n",
    "\n",
    "### The Algorithm\n",
    "\n",
    "The algorithm updates the weights in the following way:\n",
    "\n",
    "1. Calculate the gradients of the loss function with respect to the weights.\n",
    "2. Update biased first moment estimate with the current gradients.\n",
    "3. Update biased second raw moment estimate with the square of the current gradients.\n",
    "4. Compute bias-corrected first moment estimate.\n",
    "5. Compute bias-corrected second raw moment estimate.\n",
    "6. Update the weights with the computed moments.\n",
    "\n",
    "The update rules for an parameter $\\theta$ with gradient $g$ with respect to the loss function $L$ is given by:\n",
    "\n",
    "$$ m_t = \\beta_1 \\cdot m_{t-1} + (1 - \\beta_1) \\cdot g $$\n",
    "$$ v_t = \\beta_2 \\cdot v_{t-1} + (1 - \\beta_2) \\cdot g^2 $$\n",
    "$$ \\hat{m}_t = \\frac{m_t}{1 - \\beta_1^t} $$\n",
    "$$ \\hat{v}_t = \\frac{v_t}{1 - \\beta_2^t} $$\n",
    "$$ \\theta_{t+1} = \\theta_t - \\frac{\\alpha \\cdot \\hat{m}_t}{\\sqrt{\\hat{v}_t} + \\epsilon} $$\n",
    "\n",
    "Where:\n",
    "- $m_t$ is the first moment vector (mean of gradients),\n",
    "- $v_t$ is the second moment vector (uncentered variance of gradients),\n",
    "- $\\hat{m}_t$ is the bias-corrected first moment estimate,\n",
    "- $\\hat{v}_t$ is the bias-corrected second moment estimate,\n",
    "- $\\alpha$ is the learning rate,\n",
    "- $\\beta_1$ and $\\beta_2$ are the exponential decay rates for these moment estimates (commonly set to 0.9 and 0.999 respectively),\n",
    "- $t$ is the timestep,\n",
    "- $\\epsilon$ is a small scalar (e.g., $10^{-8}$) to prevent division by zero."
   ]
  },
  {
   "cell_type": "code",
   "execution_count": 45,
   "id": "d941654c-d42c-47e6-9290-0b3231362763",
   "metadata": {},
   "outputs": [],
   "source": [
    "# Define the neural network training function using the ADAM optimization algorithm\n",
    "def train_neural_network_adam(X, y, activation, activation_derivative, learning_rate=0.01, epochs=10000, beta1=0.9, beta2=0.999, epsilon=1e-8):\n",
    "    input_size = X.shape[1]  # Number of features\n",
    "    hidden_size = 2  # You can change this as per your network design\n",
    "    output_size = y.shape[1]  # Number of outputs\n",
    "\n",
    "    # Initialize weights and biases with random values\n",
    "    weights_input_hidden = np.random.rand(input_size, hidden_size)\n",
    "    biases_hidden = np.random.rand(1, hidden_size)\n",
    "    weights_hidden_output = np.random.rand(hidden_size, output_size)\n",
    "    biases_output = np.random.rand(1, output_size)\n",
    "\n",
    "    # Initialize the ADAM optimization parameters\n",
    "    m_wih, v_wih = np.zeros_like(weights_input_hidden), np.zeros_like(weights_input_hidden)\n",
    "    m_bh, v_bh = np.zeros_like(biases_hidden), np.zeros_like(biases_hidden)\n",
    "    m_who, v_who = np.zeros_like(weights_hidden_output), np.zeros_like(weights_hidden_output)\n",
    "    m_bo, v_bo = np.zeros_like(biases_output), np.zeros_like(biases_output)\n",
    "\n",
    "    losses_array = []\n",
    "\n",
    "    # Start the training loop\n",
    "    for epoch in range(1, epochs + 1):\n",
    "        # Forward pass\n",
    "        hidden_layer_input = np.dot(X, weights_input_hidden) + biases_hidden\n",
    "        hidden_layer_output = activation(hidden_layer_input)\n",
    "        final_output = np.dot(hidden_layer_output, weights_hidden_output) + biases_output\n",
    "\n",
    "        # Compute loss\n",
    "        loss = mse_loss(y, final_output)\n",
    "\n",
    "        # Backpropagation\n",
    "        output_error = y - final_output\n",
    "        output_delta = output_error\n",
    "\n",
    "        hidden_error = output_delta.dot(weights_hidden_output.T)\n",
    "        hidden_delta = hidden_error * activation_derivative(hidden_layer_output)\n",
    "\n",
    "        # Calculate the gradients for the ADAM optimizer\n",
    "        gradient_wih = X.T.dot(hidden_delta)\n",
    "        gradient_bh = np.sum(hidden_delta, axis=0, keepdims=True)\n",
    "        gradient_who = hidden_layer_output.T.dot(output_error)\n",
    "        gradient_bo = np.sum(output_error, axis=0, keepdims=True)\n",
    "\n",
    "        # Update moment estimates\n",
    "        m_wih = beta1 * m_wih + (1 - beta1) * gradient_wih\n",
    "        v_wih = beta2 * v_wih + (1 - beta2) * np.square(gradient_wih)\n",
    "\n",
    "        m_bh = beta1 * m_bh + (1 - beta1) * gradient_bh\n",
    "        v_bh = beta2 * v_bh + (1 - beta2) * np.square(gradient_bh)\n",
    "\n",
    "        m_who = beta1 * m_who + (1 - beta1) * gradient_who\n",
    "        v_who = beta2 * v_who + (1 - beta2) * np.square(gradient_who)\n",
    "\n",
    "        m_bo = beta1 * m_bo + (1 - beta1) * gradient_bo\n",
    "        v_bo = beta2 * v_bo + (1 - beta2) * np.square(gradient_bo)\n",
    "\n",
    "        # Correct the biases in the moment estimates\n",
    "        m_wih_corrected = m_wih / (1 - beta1 ** epoch)\n",
    "        v_wih_corrected = v_wih / (1 - beta2 ** epoch)\n",
    "\n",
    "        m_bh_corrected = m_bh / (1 - beta1 ** epoch)\n",
    "        v_bh_corrected = v_bh / (1 - beta2 ** epoch)\n",
    "\n",
    "        m_who_corrected = m_who / (1 - beta1 ** epoch)\n",
    "        v_who_corrected = v_who / (1 - beta2 ** epoch)\n",
    "\n",
    "        m_bo_corrected = m_bo / (1 - beta1 ** epoch)\n",
    "        v_bo_corrected = v_bo / (1 - beta2 ** epoch)\n",
    "\n",
    "        # Update the weights and biases\n",
    "        weights_input_hidden += learning_rate * m_wih_corrected / (np.sqrt(v_wih_corrected) + epsilon)\n",
    "        biases_hidden += learning_rate * m_bh_corrected / (np.sqrt(v_bh_corrected) + epsilon)\n",
    "        weights_hidden_output += learning_rate * m_who_corrected / (np.sqrt(v_who_corrected) + epsilon)\n",
    "        biases_output += learning_rate * m_bo_corrected / (np.sqrt(v_bo_corrected) + epsilon)\n",
    "\n",
    "\n",
    "        losses_array.append(loss)\n",
    "\n",
    "    return loss, losses_array\n"
   ]
  },
  {
   "cell_type": "markdown",
   "id": "3f940438-5dfe-40da-b918-29d14f07f7d5",
   "metadata": {},
   "source": [
    "## 2 - Neural Network with ADAM - Run the code."
   ]
  },
  {
   "cell_type": "code",
   "execution_count": 46,
   "id": "b770f5bb-476a-449f-a35d-8469fc7ec23f",
   "metadata": {},
   "outputs": [
    {
     "name": "stdout",
     "output_type": "stream",
     "text": [
      "Final Loss with ADAM : 0.0639405713260125\n"
     ]
    }
   ],
   "source": [
    "final_loss,losses_array = train_neural_network_adam(\n",
    "    X_scaled, y_scaled, sigmoid, sigmoid_derivative, learning_rate=0.01, epochs=300\n",
    ")\n",
    "print(f\"Final Loss with ADAM : {final_loss}\")\n"
   ]
  },
  {
   "cell_type": "code",
   "execution_count": null,
   "id": "ee408242-d0e3-47df-82d3-50aeba265aa6",
   "metadata": {},
   "outputs": [],
   "source": []
  },
  {
   "cell_type": "code",
   "execution_count": null,
   "id": "d8e56b02-7e48-4257-a91b-f759bceb26e6",
   "metadata": {},
   "outputs": [],
   "source": []
  }
 ],
 "metadata": {
  "kernelspec": {
   "display_name": "Python 3 (ipykernel)",
   "language": "python",
   "name": "python3"
  },
  "language_info": {
   "codemirror_mode": {
    "name": "ipython",
    "version": 3
   },
   "file_extension": ".py",
   "mimetype": "text/x-python",
   "name": "python",
   "nbconvert_exporter": "python",
   "pygments_lexer": "ipython3",
   "version": "3.11.6"
  }
 },
 "nbformat": 4,
 "nbformat_minor": 5
}
