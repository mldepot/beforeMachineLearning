{
  "metadata": {
    "language_info": {
      "codemirror_mode": {
        "name": "python",
        "version": 3
      },
      "file_extension": ".py",
      "mimetype": "text/x-python",
      "name": "python",
      "nbconvert_exporter": "python",
      "pygments_lexer": "ipython3",
      "version": "3.8"
    },
    "kernelspec": {
      "name": "python",
      "display_name": "Python (Pyodide)",
      "language": "python"
    }
  },
  "nbformat_minor": 4,
  "nbformat": 4,
  "cells": [
    {
      "cell_type": "markdown",
      "source": "# Matrix Multiplication",
      "metadata": {}
    },
    {
      "cell_type": "markdown",
      "source": "Given a simple 3x3 image represented as a matrix, where each cell represents a pixel's intensity, and a 3x3 \ntransformation matrix, perform matrix multiplication to transform the image.",
      "metadata": {}
    },
    {
      "cell_type": "code",
      "source": "import numpy as np\n\n# Original Image Matrix\nA = np.array([[1, 2, 3],\n              [4, 5, 6],\n              [7, 8, 9]])\n\n# Transformation Matrix\nB = np.array([[0, 1, 0],\n              [-1, 0, 0],\n              [0, 0, 1]])\n\n# Perform Matrix Multiplication\nTransformed_Image = np.dot(A, B)\nprint(Transformed_Image)",
      "metadata": {
        "trusted": true
      },
      "execution_count": 4,
      "outputs": [
        {
          "name": "stdout",
          "text": "[[-2  1  3]\n [-5  4  6]\n [-8  7  9]]\n",
          "output_type": "stream"
        }
      ]
    },
    {
      "cell_type": "markdown",
      "source": "Given a plain text message and a key matrix, encode the message using matrix multiplication. Convert the message to numerical \nform using ASCII values and arrange it in a matrix where each number represents a character. Multiply the message matrix by the key \nmatrix to get the encrypted message matrix.",
      "metadata": {}
    },
    {
      "cell_type": "code",
      "source": "# Message Matrix (ASCII Values of 'ABC')\nE = np.array([[65, 66, 67]])\n\n# Key Matrix\nF = np.array([[1, 2, 3],\n              [4, 5, 6],\n              [7, 8, 9]])\n\n# Perform matrix multiplication to encrypt the message\nEncrypted_Message = np.dot(E, F)\nprint(Encrypted_Message)",
      "metadata": {
        "trusted": true
      },
      "execution_count": 5,
      "outputs": [
        {
          "name": "stdout",
          "text": "[[ 798  996 1194]]\n",
          "output_type": "stream"
        }
      ]
    },
    {
      "cell_type": "code",
      "source": "",
      "metadata": {},
      "execution_count": null,
      "outputs": []
    }
  ]
}
