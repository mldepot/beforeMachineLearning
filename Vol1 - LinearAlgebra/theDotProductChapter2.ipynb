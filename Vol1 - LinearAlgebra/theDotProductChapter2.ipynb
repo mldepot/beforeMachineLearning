{
  "metadata": {
    "language_info": {
      "codemirror_mode": {
        "name": "python",
        "version": 3
      },
      "file_extension": ".py",
      "mimetype": "text/x-python",
      "name": "python",
      "nbconvert_exporter": "python",
      "pygments_lexer": "ipython3",
      "version": "3.8"
    },
    "kernelspec": {
      "name": "python",
      "display_name": "Python (Pyodide)",
      "language": "python"
    }
  },
  "nbformat_minor": 4,
  "nbformat": 4,
  "cells": [
    {
      "cell_type": "markdown",
      "source": "# The dot product ",
      "metadata": {}
    },
    {
      "cell_type": "markdown",
      "source": "Design a function that accepts a two-dimensional array representing user ratings assigned to a \ncollection of movies. Additionally, the function should receive a specific movie as an argument. \nThe task of the function is to determine and return the movie with the most similar average rating to the given movie, \nwith the condition that the returned movie must not be the same as the input movie.",
      "metadata": {}
    },
    {
      "cell_type": "code",
      "source": "import numpy as np\n\n# Create the rankings matrix\nratings = np.array([\n    [5, 2, 1, 0, 3],\n    [4, 1, 0, 2, 0],\n    [3, 5, 0, 4, 5],\n    [1, 0, 5, 3, 2],\n    [0, 4, 2, 4, 1],\n    [2, 3, 0, 1, 0]\n])",
      "metadata": {
        "trusted": true
      },
      "execution_count": 4,
      "outputs": []
    },
    {
      "cell_type": "code",
      "source": "def most_similar_movie(ratings, target_movie_idx):\n    \"\"\"\n    ratings: 2D numpy array where each column represents a movie \n             and each row represents a user's rating for those movies.\n             \n    target_movie_idx: Index of the movie (column index in 'ratings') for \n                      which we want to find the most similar movie.\n    \"\"\"\n    \n    # Extract the ratings for the target movie from the 'ratings' array.\n    target_movie_ratings = ratings[:, target_movie_idx]\n    \n    # Initialize a list to store the similarity of the target movie \n    # with every other movie.\n    similarities = []\n    \n    # Iterate over all movies in the 'ratings' array.\n    for i in range(ratings.shape[1]):\n        \n        # Skip the iteration if the current movie is the target movie.\n        if i == target_movie_idx: continue  \n        \n        # Compute the cosine similarity between the target movie and the current movie.\n        similarity = np.dot(target_movie_ratings, ratings[:, i]) / (np.linalg.norm(target_movie_ratings) * np.linalg.norm(ratings[:, i]))\n        \n        # Append the movie index and its similarity with the target movie to the 'similarities' list.\n        similarities.append((i, similarity))\n    \n    # Sort the 'similarities' list in descending order of similarity values.\n    similarities.sort(key=lambda x: x[1], reverse=True)\n    \n    # Return the index of the most similar movie.\n    return similarities[0][0] ",
      "metadata": {
        "trusted": true
      },
      "execution_count": 5,
      "outputs": []
    },
    {
      "cell_type": "code",
      "source": "similarMovies = most_similar_movie(ratings, 4)\nprint(similarMovies)",
      "metadata": {
        "trusted": true
      },
      "execution_count": 11,
      "outputs": [
        {
          "name": "stdout",
          "text": "1\n",
          "output_type": "stream"
        }
      ]
    },
    {
      "cell_type": "markdown",
      "source": "After understanding and completing the first task, adapt the initial function so that it can now provide the\ntop n similar items to a given item. Test the function with different movies and different n values and \nobserve the changes in the output.",
      "metadata": {}
    },
    {
      "cell_type": "code",
      "source": "def top_n_similar_movies(ratings, target_movie_idx, n):\n    \"\"\"\n    ratings: 2D numpy array, where each column represents a movie \n             and each row represents a user's rating for those movies.\n    \n    target_movie_idx: Index of the movie (column index in 'ratings') \n                      for which we want to find the most similar movies.\n                      \n    n: Number of top similar movies to return.\n    \"\"\"\n    \n    # Extract the ratings for the target movie from the 'ratings' array.\n    target_movie_ratings = ratings[:, target_movie_idx]\n    \n    # Initialize a list to store the similarity of the target movie with every other movie.\n    similarities = []\n    \n    # Iterate over all movies in the 'ratings' array.\n    for i in range(ratings.shape[1]):\n        \n        # Skip the iteration if the current movie is the target movie.\n        if i == target_movie_idx: continue  \n        \n        # Compute the cosine similarity between the target movie and the current movie.\n        similarity = np.dot(target_movie_ratings, ratings[:, i]) / (np.linalg.norm(target_movie_ratings) * np.linalg.norm(ratings[:, i]))\n        \n        # Append the movie index and its similarity with the target movie to the 'similarities' list.\n        similarities.append((i, similarity))\n        \n    # Sort the 'similarities' list in descending order of similarity values.\n    similarities.sort(key=lambda x: x[1], reverse=True)\n    \n    # Return the indices of the top 'n' most similar movies.\n    return [movie_idx for movie_idx, _ in similarities[:n]]",
      "metadata": {
        "trusted": true
      },
      "execution_count": 12,
      "outputs": []
    },
    {
      "cell_type": "code",
      "source": "topMovies = top_n_similar_movies(ratings, 1, 3)\nprint(topMovies)",
      "metadata": {
        "trusted": true
      },
      "execution_count": 13,
      "outputs": [
        {
          "name": "stdout",
          "text": "[3, 4, 0]\n",
          "output_type": "stream"
        }
      ]
    },
    {
      "cell_type": "code",
      "source": "",
      "metadata": {},
      "execution_count": null,
      "outputs": []
    },
    {
      "cell_type": "code",
      "source": "",
      "metadata": {},
      "execution_count": null,
      "outputs": []
    },
    {
      "cell_type": "code",
      "source": "",
      "metadata": {},
      "execution_count": null,
      "outputs": []
    }
  ]
}