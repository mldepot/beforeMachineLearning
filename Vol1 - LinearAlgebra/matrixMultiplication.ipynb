{
 "cells": [
  {
   "cell_type": "markdown",
   "metadata": {},
   "source": [
    "# Matrix Multiplication"
   ]
  },
  {
   "cell_type": "markdown",
   "metadata": {},
   "source": [
    "Given a simple 3x3 image represented as a matrix, where each cell represents a pixel's intensity, and a 3x3 \n",
    "transformation matrix, perform matrix multiplication to transform the image."
   ]
  },
  {
   "cell_type": "code",
   "execution_count": 4,
   "metadata": {},
   "outputs": [
    {
     "name": "stdout",
     "output_type": "stream",
     "text": [
      "[[-2  1  3]\n",
      " [-5  4  6]\n",
      " [-8  7  9]]\n"
     ]
    }
   ],
   "source": [
    "import numpy as np\n",
    "\n",
    "# Original Image Matrix\n",
    "A = np.array([[1, 2, 3],\n",
    "              [4, 5, 6],\n",
    "              [7, 8, 9]])\n",
    "\n",
    "# Transformation Matrix\n",
    "B = np.array([[0, 1, 0],\n",
    "              [-1, 0, 0],\n",
    "              [0, 0, 1]])\n",
    "\n",
    "# Perform Matrix Multiplication\n",
    "Transformed_Image = np.dot(A, B)\n",
    "print(Transformed_Image)"
   ]
  },
  {
   "cell_type": "markdown",
   "metadata": {},
   "source": [
    "Given a plain text message and a key matrix, encode the message using matrix multiplication. Convert the message to numerical \n",
    "form using ASCII values and arrange it in a matrix where each number represents a character. Multiply the message matrix by the key \n",
    "matrix to get the encrypted message matrix."
   ]
  },
  {
   "cell_type": "code",
   "execution_count": 5,
   "metadata": {},
   "outputs": [
    {
     "name": "stdout",
     "output_type": "stream",
     "text": [
      "[[ 798  996 1194]]\n"
     ]
    }
   ],
   "source": [
    "# Message Matrix (ASCII Values of 'ABC')\n",
    "E = np.array([[65, 66, 67]])\n",
    "\n",
    "# Key Matrix\n",
    "F = np.array([[1, 2, 3],\n",
    "              [4, 5, 6],\n",
    "              [7, 8, 9]])\n",
    "\n",
    "# Perform matrix multiplication to encrypt the message\n",
    "Encrypted_Message = np.dot(E, F)\n",
    "print(Encrypted_Message)"
   ]
  },
  {
   "cell_type": "code",
   "execution_count": null,
   "metadata": {},
   "outputs": [],
   "source": []
  }
 ],
 "metadata": {
  "kernelspec": {
   "display_name": "Python 3 (ipykernel)",
   "language": "python",
   "name": "python3"
  },
  "language_info": {
   "codemirror_mode": {
    "name": "ipython",
    "version": 3
   },
   "file_extension": ".py",
   "mimetype": "text/x-python",
   "name": "python",
   "nbconvert_exporter": "python",
   "pygments_lexer": "ipython3",
   "version": "3.12.1"
  }
 },
 "nbformat": 4,
 "nbformat_minor": 4
}
