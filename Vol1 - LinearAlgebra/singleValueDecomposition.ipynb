{
 "cells": [
  {
   "cell_type": "markdown",
   "id": "2cee68c5-2d0d-437e-b117-7a56c49099cb",
   "metadata": {},
   "source": [
    "# Single value decomposition"
   ]
  },
  {
   "cell_type": "code",
   "execution_count": null,
   "id": "cb5e4e5d-dfcd-4e26-a7e1-5da303b4fa84",
   "metadata": {},
   "outputs": [],
   "source": [
    "import pandas as pd\n",
    "import numpy as np\n",
    "import matplotlib.pyplot as \n",
    "from mpl_toolkits.mplot3d import Axes3D"
   ]
  },
  {
   "cell_type": "markdown",
   "id": "a6e73f6f-8c06-4dc7-9ca2-98f96733beba",
   "metadata": {},
   "source": [
    "## 1.Load dataset"
   ]
  },
  {
   "cell_type": "code",
   "execution_count": null,
   "id": "e3a3bd0f-499f-4319-8466-4a1e50008258",
   "metadata": {},
   "outputs": [],
   "source": [
    "# Replace 'path_to_u.data' with the actual path to your u.data file\n",
    "file_path = 'u.data'\n",
    "\n",
    "# Reading the file\n",
    "df = pd.read_csv(file_path, sep='\\t', names=['user_id', 'item_id', 'rating', 'timestamp'])\n",
    "# Displaying the first few rows of the DataFrame\n",
    "print(df.head())"
   ]
  },
  {
   "cell_type": "markdown",
   "id": "680466d9-d590-4cd5-8f48-c123cad19917",
   "metadata": {},
   "source": [
    "## 2.Create User-Matrix matrix"
   ]
  },
  {
   "cell_type": "markdown",
   "id": "6cda7ac8-0651-49b0-a40c-a7988245e035",
   "metadata": {},
   "source": [
    "We will use the pivot method in pandas and fill the nan with 0's"
   ]
  },
  {
   "cell_type": "code",
   "execution_count": null,
   "id": "c27827ff-404d-43c4-b72f-d181cb306b23",
   "metadata": {},
   "outputs": [],
   "source": [
    "#Create a User-Item Matrix\n",
    "user_item_matrix = df.pivot(index='user_id', columns='item_id', values='rating')\n",
    "user_item_matrix.fillna(0, inplace=True)\n",
    "user_item_matrix.head()"
   ]
  },
  {
   "cell_type": "markdown",
   "id": "45dedacf-4807-46f4-bf7b-4d1e2c0fd9a4",
   "metadata": {},
   "source": [
    "## 3. Decompose the user-matrix with SVD"
   ]
  },
  {
   "cell_type": "code",
   "execution_count": null,
   "id": "0bab5350-c822-4dac-a1e6-420d56415b40",
   "metadata": {},
   "outputs": [],
   "source": [
    "U, sigma, Vt = np.linalg.svd(user_item_matrix, full_matrices=True)"
   ]
  },
  {
   "cell_type": "markdown",
   "id": "a887e328-faec-4494-9419-3cce663a6b80",
   "metadata": {},
   "source": [
    "## 4. Reduce the dimensionality to capture $85\\%$ of the variance"
   ]
  },
  {
   "cell_type": "code",
   "execution_count": null,
   "id": "da395112-0517-4b8c-acbb-d3759a47f53b",
   "metadata": {},
   "outputs": [],
   "source": [
    "Sigma = np.zeros((U.shape[0], Vt.shape[0]))\n",
    "np.fill_diagonal(Sigma, sigma)\n",
    "# Calculate the total variance (sum of squares of singular values)\n",
    "total_variance = sum(sigma**2)\n",
    "\n",
    "# Calculate the variance explained by each singular value and the cumulative variance\n",
    "variance_explained = np.cumsum(sigma**2) / total_variance\n",
    "\n",
    "# Find the number of singular values needed to reach 85% of the total variance\n",
    "num_singular_values = np.where(variance_explained >= 0.85)[0][0] + 1\n",
    "print('Number of Singular values for 85% of variance:')\n",
    "print(num_singular_values)\n",
    "\n",
    "# Reduced SVD\n",
    "U_reduced = U[:, :num_singular_values]\n",
    "sigma_reduced = np.diag(sigma[:num_singular_values])\n",
    "Vt_reduced = Vt[:num_singular_values, :]"
   ]
  },
  {
   "cell_type": "markdown",
   "id": "62713c59-da9d-4d4d-b01d-7c8427d498c0",
   "metadata": {},
   "source": [
    "### 4a. Plot the cumulative variance and the singular values magnitude"
   ]
  },
  {
   "cell_type": "code",
   "execution_count": null,
   "id": "51e8e751-8e18-415d-a58e-c8f5b624581d",
   "metadata": {},
   "outputs": [],
   "source": [
    "# Plot the singular values and the cumulative variance\n",
    "plt.figure(figsize=(10, 4))\n",
    "plt.subplot(1, 2, 1)\n",
    "plt.plot(sigma)\n",
    "plt.title(\"Singular Values\")\n",
    "plt.xlabel(\"Singular Value Index\")\n",
    "plt.ylabel(\"Singular Value Magnitude\")\n",
    "\n",
    "plt.subplot(1, 2, 2)\n",
    "plt.plot(variance_explained)\n",
    "plt.axhline(y=0.85, color='r', linestyle='--')\n",
    "plt.title(\"Cumulative Variance Explained\")\n",
    "plt.xlabel(\"Number of Singular Values\")\n",
    "plt.ylabel(\"Cumulative Variance\")\n",
    "plt.show()"
   ]
  },
  {
   "cell_type": "markdown",
   "id": "c896be33-12e7-41f1-a6dc-4d8c30ec49b3",
   "metadata": {},
   "source": [
    "### 4b. Plot the chosen single values"
   ]
  },
  {
   "cell_type": "code",
   "execution_count": null,
   "id": "a4e65ffe-23a1-42f8-a5e6-41dfaa175354",
   "metadata": {},
   "outputs": [],
   "source": [
    "# Plot only the chosen singular values\n",
    "chosen_singular_values = sigma[:num_singular_values]\n",
    "plt.figure(figsize=(8, 4))\n",
    "plt.bar(range(len(chosen_singular_values)), chosen_singular_values)\n",
    "plt.title(\"Chosen Singular Values (85% Variance)\")\n",
    "plt.xlabel(\"Singular Value Index\")\n",
    "plt.ylabel(\"Singular Value Magnitude\")\n",
    "plt.show()"
   ]
  },
  {
   "cell_type": "markdown",
   "id": "e42ee0ef-451e-4c21-80b8-81509e7a217a",
   "metadata": {},
   "source": [
    "## 5.Generate 10 random users profiles and recommend 5 movies per each user."
   ]
  },
  {
   "cell_type": "code",
   "execution_count": null,
   "id": "296b95cd-9464-493b-b43f-655e3a8673f3",
   "metadata": {},
   "outputs": [],
   "source": [
    "k = Vt_reduced.shape[0]  # Number of features\n",
    "num_users = 10\n",
    "np.random.seed(0)  # For reproducible results\n",
    "\n",
    "# Generate random ratings for each user for all k features\n",
    "new_user_profiles = np.random.randint(0, 6, size=(num_users, k))\n",
    "\n",
    "# Calculate the predicted ratings for new users\n",
    "predicted_ratings = np.dot(new_user_profiles, Vt_reduced)\n",
    "\n",
    "# Recommend top 5 movies for each new user\n",
    "num_recommendations = 5\n",
    "top_movie_indices = np.argsort(predicted_ratings, axis=1)[:, -num_recommendations:][:, ::-1]\n",
    "\n",
    "# Print recommended movie indices for each new user\n",
    "for i, movie_indices in enumerate(top_movie_indices):\n",
    "    print(f\"Recommended Movies for New User {i+1}: {movie_indices + 1}\")  # +1 if movies are 1-indexed"
   ]
  },
  {
   "cell_type": "markdown",
   "id": "2691a85e-2f5e-4a46-9f83-196e46b00699",
   "metadata": {},
   "source": [
    "## 6.Find the top 5 similar users to user 10 "
   ]
  },
  {
   "cell_type": "code",
   "execution_count": null,
   "id": "ed93c563-2830-48c1-8ff9-014417fb5c89",
   "metadata": {},
   "outputs": [],
   "source": [
    "\n",
    "# Transform user features\n",
    "USigma = np.dot(U_reduced, sigma_reduced)\n",
    "\n",
    "# Select a user, for example, user 10 (index 9 in zero-based indexing)\n",
    "selected_user_index = 9\n",
    "selected_user_features = USigma[selected_user_index, :]\n",
    "\n",
    "# Function to compute cosine similarity\n",
    "def cosine_similarity(vec1, vec2):\n",
    "    return np.dot(vec1, vec2) / (np.linalg.norm(vec1) * np.linalg.norm(vec2))\n",
    "\n",
    "# Compute similarity with all other users\n",
    "similarities = np.array([cosine_similarity(selected_user_features, user_features) for user_features in USigma])\n",
    "\n",
    "# Find the top 5 similar users (excluding the selected user)\n",
    "similar_users = np.argsort(similarities)[::-1][1:6]  # Skipping the first one as it will be the selected user itself\n",
    "\n",
    "print(f\"Top 5 similar users to User {selected_user_index + 1}: {similar_users + 1}\")  # +1 for 1-based indexing\n"
   ]
  },
  {
   "cell_type": "markdown",
   "id": "11091774-917d-4c63-9f01-c27d6927f9d0",
   "metadata": {},
   "source": [
    "## 7. Recommend a movie that user 10 has not watched but was watched by any of the top most similar users."
   ]
  },
  {
   "cell_type": "code",
   "execution_count": null,
   "id": "b175211e-1452-448b-a5c7-1f561d70b35e",
   "metadata": {},
   "outputs": [],
   "source": [
    "R = user_item_matrix.to_numpy()\n",
    "# Find the movies that user 10 has not watched\n",
    "user_10_index = 9  # User 10 in zero-based indexing\n",
    "user_10_watched = np.where(R[user_10_index, :] > 0)[0]  # Movies that user 10 has rated\n",
    "\n",
    "# Find movies watched by similar users\n",
    "similar_users_movies = set()\n",
    "for user_index in similar_users:\n",
    "    watched_movies = np.where(R[user_index, :] > 0)[0]\n",
    "    similar_users_movies.update(watched_movies)\n",
    "\n",
    "# Recommend a movie that user 10 has not watched but similar users have\n",
    "recommendation = list(similar_users_movies.difference(user_10_watched))\n",
    "\n",
    "# Select one movie to recommend (you can also rank these based on some criteria)\n",
    "if recommendation:\n",
    "    recommended_movie = recommendation[0]  # For example, recommend the first in the list\n",
    "    print(f\"Recommended Movie for User 10: {recommended_movie + 1}\")  # +1 for 1-based indexing\n",
    "else:\n",
    "    print(\"No suitable movie found to recommend.\")\n"
   ]
  },
  {
   "cell_type": "markdown",
   "id": "b7d7d732-b110-4ca0-8749-1b466b63425b",
   "metadata": {},
   "source": [
    "## 8.Examine the V^T matrix obtained from SVD, where each row represents a latent feature, and each column represents a movie. Choose a few latent features and analyze their movie associations."
   ]
  },
  {
   "cell_type": "code",
   "execution_count": null,
   "id": "e1c625ae-67bb-4a7f-9fb1-2fa40fa2e5b5",
   "metadata": {},
   "outputs": [],
   "source": [
    "\n",
    "# Select the first three features\n",
    "first_three_features = Vt[:3, :]\n",
    "\n",
    "# Plot each of the first three features\n",
    "for i, feature in enumerate(first_three_features):\n",
    "    plt.figure(figsize=(10, 6))\n",
    "    plt.bar(range(len(feature)), feature)\n",
    "    plt.title(f'Feature {i + 1}')\n",
    "    plt.xlabel('Movie Index')\n",
    "    plt.ylabel('Feature Strength')\n",
    "    plt.show()"
   ]
  },
  {
   "cell_type": "markdown",
   "id": "a4a4e673-706b-469b-a84d-8f0816cde804",
   "metadata": {},
   "source": [
    "Interpreting these plots can provide insights into what each latent feature might represent. For example, if a particular feature has strong positive associations with a group of movies, and those movies share common characteristics (like being of the same genre), it's likely that the feature captures this characteristic.\n",
    "\n",
    "Keep in mind, the interpretation of these latent features is not always straightforward and might require domain knowledge or additional data. The movie indices on the x-axis would need to be mapped back to actual movie titles for a more meaningful analysis."
   ]
  },
  {
   "cell_type": "markdown",
   "id": "1512d2a1-e7ac-4da5-ada1-620d78aae25f",
   "metadata": {},
   "source": [
    "### 3d Plot of the latent variables"
   ]
  },
  {
   "cell_type": "code",
   "execution_count": null,
   "id": "6deddbeb-cd35-4559-86cb-85cbd24cde32",
   "metadata": {},
   "outputs": [],
   "source": [
    "# Assuming Vt is the matrix obtained from SVD\n",
    "# Select the first three features from V^T\n",
    "first_three_features = Vt[:3, :]\n",
    "\n",
    "# Transpose to get movies as rows and features as columns\n",
    "movies_in_feature_space = first_three_features.T\n",
    "\n",
    "# Create a 3D plot\n",
    "fig = plt.figure(figsize=(10, 7))\n",
    "ax = fig.add_subplot(111, projection='3d')\n",
    "\n",
    "# Each movie is a point in the plot\n",
    "# movies_in_feature_space[:, 0] is the association with the first feature, and so on\n",
    "ax.scatter(movies_in_feature_space[:, 0], movies_in_feature_space[:, 1], movies_in_feature_space[:, 2])\n",
    "\n",
    "ax.set_xlabel('Feature 1')\n",
    "ax.set_ylabel('Feature 2')\n",
    "ax.set_zlabel('Feature 3')\n",
    "ax.set_title('Movies in the First Three Latent Feature Space')\n",
    "\n",
    "plt.show()"
   ]
  }
 ],
 "metadata": {
  "kernelspec": {
   "display_name": "Python 3 (ipykernel)",
   "language": "python",
   "name": "python3"
  },
  "language_info": {
   "codemirror_mode": {
    "name": "ipython",
    "version": 3
   },
   "file_extension": ".py",
   "mimetype": "text/x-python",
   "name": "python",
   "nbconvert_exporter": "python",
   "pygments_lexer": "ipython3",
   "version": "3.12.1"
  }
 },
 "nbformat": 4,
 "nbformat_minor": 5
}
