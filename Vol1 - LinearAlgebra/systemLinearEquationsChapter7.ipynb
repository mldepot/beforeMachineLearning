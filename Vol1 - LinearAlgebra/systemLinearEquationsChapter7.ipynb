{
  "metadata": {
    "language_info": {
      "codemirror_mode": {
        "name": "python",
        "version": 3
      },
      "file_extension": ".py",
      "mimetype": "text/x-python",
      "name": "python",
      "nbconvert_exporter": "python",
      "pygments_lexer": "ipython3",
      "version": "3.8"
    },
    "kernelspec": {
      "name": "python",
      "display_name": "Python (Pyodide)",
      "language": "python"
    }
  },
  "nbformat_minor": 4,
  "nbformat": 4,
  "cells": [
    {
      "cell_type": "markdown",
      "source": "# System of linear equations",
      "metadata": {}
    },
    {
      "cell_type": "markdown",
      "source": "Three movies were screened in a cinema over a weekend: \"Action Adventure\", \"Romantic Comedy\", and \"Sci-fi Thriller\". The individual ticket prices for these movies are x, y, and z dollars respectively. However, you've only been given the following pieces of information:\n\n - 700 tickets were sold for \"Action Adventure\" and 300 tickets for \"Romantic Comedy\", collecting a total revenue of 7,000.\n - 500 tickets were sold for \"Romantic Comedy\" and 500 for \"Sci-fi Thriller\", with a combined revenue of  6,000.\n - \"Action Adventure\" and \"Sci-fi Thriller\" together sold 1000 tickets and generated a revenue of 9,000.\n \n \nWit this information, let's solve the following:",
      "metadata": {}
    },
    {
      "cell_type": "markdown",
      "source": "Define the coefficient matrix A and the constant matrix B from your system of equations.",
      "metadata": {}
    },
    {
      "cell_type": "code",
      "source": "import numpy as np\n\n# Define the coefficient matrix A and the constant matrix B\nA = np.array([\n    [700, 300, 0],\n    [0, 500, 500],\n    [700, 0, 300]\n])\n\nB = np.array([7000, 6000, 9000])",
      "metadata": {
        "trusted": true
      },
      "execution_count": 4,
      "outputs": []
    },
    {
      "cell_type": "markdown",
      "source": "Calculate the determinant of the coefficient matrix A. If the determinant is non-zero, \nproceed to the next step. If it is zero, indicate that the inverse of A does not exist and discuss the implications.",
      "metadata": {}
    },
    {
      "cell_type": "code",
      "source": " #Calculate the determinant of matrix A\ndet_A = np.linalg.det(A)\nprint(f\"Determinant of A: {det_A}\")",
      "metadata": {
        "trusted": true
      },
      "execution_count": 5,
      "outputs": [
        {
          "name": "stdout",
          "text": "Determinant of A: 209999999.99999928\n",
          "output_type": "stream"
        }
      ]
    },
    {
      "cell_type": "markdown",
      "source": "Calculate the inverse of matrix A if it exists. ",
      "metadata": {}
    },
    {
      "cell_type": "code",
      "source": "# Check if determinant is non-zero and calculate the inverse if it is\nif det_A != 0:\n    A_inv = np.linalg.inv(A)\n    print(f\"Inverse of A: \\n{A_inv}\")\nelse:\n    A_inv = None\n    print(\"Inverse of A does not exist.\")",
      "metadata": {
        "trusted": true
      },
      "execution_count": 6,
      "outputs": [
        {
          "name": "stdout",
          "text": "Inverse of A: \n[[ 0.00071429 -0.00042857  0.00071429]\n [ 0.00166667  0.001      -0.00166667]\n [-0.00166667  0.001       0.00166667]]\n",
          "output_type": "stream"
        }
      ]
    },
    {
      "cell_type": "markdown",
      "source": "Use the inverse of matrix A to solve for the variable matrix \\(X\\) representing the ticket prices for the movies, i.e., \nx,y,z. If the inverse does not exist, discuss the implications on the system of equations.\n",
      "metadata": {}
    },
    {
      "cell_type": "code",
      "source": "if A_inv is not None:\n    X = np.dot(A_inv, B)\n    print(f\"Ticket prices: x = ${X[0]:.2f}, y = ${X[1]:.2f}, z = ${X[2]:.2f}\")\nelse:\n    X = None\n    print(\"Cannot solve for ticket prices as A is singular.\")\n",
      "metadata": {
        "trusted": true
      },
      "execution_count": 7,
      "outputs": [
        {
          "name": "stdout",
          "text": "Ticket prices: x = $8.86, y = $2.67, z = $9.33\n",
          "output_type": "stream"
        }
      ]
    },
    {
      "cell_type": "code",
      "source": "",
      "metadata": {},
      "execution_count": null,
      "outputs": []
    },
    {
      "cell_type": "code",
      "source": "",
      "metadata": {},
      "execution_count": null,
      "outputs": []
    }
  ]
}