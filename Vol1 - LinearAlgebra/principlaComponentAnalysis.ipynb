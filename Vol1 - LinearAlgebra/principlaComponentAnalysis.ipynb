{
 "cells": [
  {
   "cell_type": "markdown",
   "id": "8f88d5e6-14dc-40e6-99ba-444a17108bc6",
   "metadata": {},
   "source": [
    "# PCA"
   ]
  },
  {
   "cell_type": "markdown",
   "id": "ad721f69-118d-48c5-9d9d-7906b8bf18e1",
   "metadata": {},
   "source": [
    "## Function to perform PCA on a single data set\n"
   ]
  },
  {
   "cell_type": "code",
   "execution_count": null,
   "id": "a1c02188-eab5-47ee-bfeb-aadadaa346e7",
   "metadata": {},
   "outputs": [],
   "source": [
    "def perform_pca_on_wine_dataset(file_path, n_components):\n",
    "    \"\"\"\n",
    "    Performs PCA on the Wine Quality Dataset.\n",
    "\n",
    "    Parameters:\n",
    "    file_path (str): Path to the wine dataset file.\n",
    "    n_components (int): Number of principal components to retain.\n",
    "\n",
    "    Returns:\n",
    "    np.ndarray: Transformed dataset using the first two principal components.\n",
    "    \"\"\"\n",
    "\n",
    "    # Load the dataset into a pandas dataframe\n",
    "    data = pd.read_csv(file_path, sep=';')\n",
    "    numeric_columns = data.select_dtypes(include=[np.number])\n",
    "    X = numeric_columns.values\n",
    "\n",
    "    # Normalize the data\n",
    "    # Subtract the mean and divide by the standard deviation for each column\n",
    "    normalized_data = (X - X.mean()) / X.std()\n",
    "\n",
    "    # Compute the covariance matrix\n",
    "    covariance_matrix = np.cov(normalized_data.T)\n",
    "\n",
    "    # Calculate the eigenvalues and eigenvectors\n",
    "    eigenvalues, eigenvectors = np.linalg.eig(covariance_matrix)\n",
    "\n",
    "    # Sort the eigenvectors by decreasing eigenvalues\n",
    "    # The eigenvalues are sorted in descending order, and the eigenvectors are rearranged accordingly\n",
    "    idx = eigenvalues.argsort()[::-1]\n",
    "    eigenvalues = eigenvalues[idx]\n",
    "    eigenvectors = eigenvectors[:, idx]\n",
    "\n",
    "    # Select the first n principal components\n",
    "    selected_components = eigenvectors[:, :n_components]\n",
    "\n",
    "    # Calculate the explanatory variance\n",
    "    # The variance explained by each principal component is the eigenvalue divided by the sum of all eigenvalues\n",
    "    explained_variance = eigenvalues[:n_components] / eigenvalues.sum()\n",
    "    # Transform the data with the first two principal components\n",
    "    transformed_data = np.dot(normalized_data, selected_components)\n",
    "\n",
    "    return transformed_data, explained_variance\n",
    "\n",
    "\n",
    "\n",
    "# Similarly, perform PCA on the white wine dataset\n",
    "# Replace 'path_to_white_wine.csv' with the actual path to the white wine dataset\n",
    "white_wine_results = perform_pca_on_wine_dataset('winequality-white.csv', 2)\n",
    "transformed_white_wine = white_wine_results[0]\n",
    "explained_variance_white_wine = white_wine_results[1]\n"
   ]
  },
  {
   "cell_type": "markdown",
   "id": "03871ca5-3ac1-4341-b9ce-e0fc2581ff76",
   "metadata": {},
   "source": [
    "### Usage on red wine "
   ]
  },
  {
   "cell_type": "code",
   "execution_count": null,
   "id": "a3cc0ddb-3534-4dd6-9abc-5fa7a8d783e5",
   "metadata": {},
   "outputs": [],
   "source": [
    "# Replace 'path_to_red_wine.csv' with the actual path to the red wine dataset\n",
    "red_wine_results = perform_pca_on_wine_dataset('path_to_red_wine.csv', 2)\n",
    "transformed_red_wine = red_wine_results[0]\n",
    "explained_variance_red_wine = red_wine_results[1]"
   ]
  },
  {
   "cell_type": "markdown",
   "id": "bb82019d-1e23-4f8d-bf63-ef81e1decb22",
   "metadata": {},
   "source": [
    "### Similarly, perform PCA on the white wine dataset"
   ]
  },
  {
   "cell_type": "code",
   "execution_count": null,
   "id": "0c3dd60e-0231-4a55-9bd1-8c11d1c6071e",
   "metadata": {},
   "outputs": [],
   "source": [
    "# Replace 'path_to_white_wine.csv' with the actual path to the white wine dataset\n",
    "white_wine_results = perform_pca_on_wine_dataset(('path_to_white_wine.csv', 2)\n",
    "transformed_white_wine = white_wine_results[0]\n",
    "explained_variance_white_wine = white_wine_results[1]"
   ]
  },
  {
   "cell_type": "markdown",
   "id": "a5c4623c-9f1f-4341-ad96-877dac8e7ce9",
   "metadata": {},
   "source": [
    "### Red wine PCA 2 components plot"
   ]
  },
  {
   "cell_type": "code",
   "execution_count": null,
   "id": "8f18de39-f10d-4386-bd9a-695cdffa8c4b",
   "metadata": {},
   "outputs": [],
   "source": [
    "plt.figure(figsize=(12, 6))\n",
    "\n",
    "# Plotting the transformed red wine data\n",
    "plt.subplot(1, 2, 1)\n",
    "plt.scatter(transformed_red_wine[:, 0], transformed_red_wine[:, 1], color='red', alpha=0.5)\n",
    "plt.title('Red Wine - First Two Principal Components')\n",
    "plt.xlabel('Principal Component 1')\n",
    "plt.ylabel('Principal Component 2')"
   ]
  },
  {
   "cell_type": "markdown",
   "id": "414db461-8f47-4176-acfb-690dfacda3fe",
   "metadata": {},
   "source": [
    "### White wine PCA 2 components plot"
   ]
  },
  {
   "cell_type": "code",
   "execution_count": null,
   "id": "45050fbf-698d-4f8c-ba70-174069b487fe",
   "metadata": {},
   "outputs": [],
   "source": [
    "plt.subplot(1, 2, 2)\n",
    "plt.scatter(transformed_white_wine[:, 0], transformed_white_wine[:, 1], color='green', alpha=0.5)\n",
    "plt.title('White Wine - First Two Principal Components')\n",
    "plt.xlabel('Principal Component 1')\n",
    "plt.ylabel('Principal Component 2')\n",
    "\n",
    "plt.show()"
   ]
  },
  {
   "cell_type": "markdown",
   "id": "0e5829f6-cf0c-4d73-9fe2-0e6f023f312e",
   "metadata": {},
   "source": [
    "## Function to project whtie wine data into red wine PCA"
   ]
  },
  {
   "cell_type": "code",
   "execution_count": null,
   "id": "93ee5e6d-43ce-4b55-a708-a9d4d9fa7402",
   "metadata": {},
   "outputs": [],
   "source": [
    "def project_and_plot(red_wine_file, white_wine_file, n_components):\n",
    "    # Load the datasets\n",
    "    red_wine = pd.read_csv(red_wine_file, sep=';')\n",
    "    white_wine = pd.read_csv(white_wine_file, sep=';')\n",
    "\n",
    "    # Normalize the red wine data\n",
    "    red_wine_normalized = (red_wine - red_wine.mean()) / red_wine.std()\n",
    "\n",
    "    # Compute PCA on the red wine data\n",
    "    cov_matrix_red = np.cov(red_wine_normalized.T)\n",
    "    eigenvalues_red, eigenvectors_red = np.linalg.eig(cov_matrix_red)\n",
    "    eigenvectors_red = eigenvectors_red[:, np.argsort(-eigenvalues_red)][:, :n_components]\n",
    "\n",
    "    # Normalize the white wine data using red wine's mean and std\n",
    "    white_wine_normalized = (white_wine - red_wine.mean()) / red_wine.std()\n",
    "\n",
    "    # Project the white wine data onto the red wine PCA components\n",
    "    transformed_white_wine = np.dot(white_wine_normalized, eigenvectors_red)\n",
    "    transformed_red_wine = np.dot(red_wine_normalized, eigenvectors_red)\n",
    "\n",
    "    # Plotting\n",
    "    plt.figure(figsize=(10, 6))\n",
    "    plt.scatter(transformed_red_wine[:, 0], transformed_red_wine[:, 1], color='red', alpha=0.5, label='Red Wine')\n",
    "    plt.scatter(transformed_white_wine[:, 0], transformed_white_wine[:, 1], color='green', alpha=0.5, label='White Wine')\n",
    "    plt.xlabel('Principal Component 1')\n",
    "    plt.ylabel('Principal Component 2')\n",
    "    plt.title('Red and White Wine PCA Comparison')\n",
    "    plt.legend()\n",
    "    plt.show()"
   ]
  },
  {
   "cell_type": "markdown",
   "id": "b429cf10-9f8e-45cc-8a5b-fc1147a2147a",
   "metadata": {},
   "source": [
    "### Usage "
   ]
  },
  {
   "cell_type": "code",
   "execution_count": null,
   "id": "8105fa24-1ec8-401b-8fd8-05de35ee08f1",
   "metadata": {},
   "outputs": [],
   "source": [
    "project_and_plot('path_to_red_wine.csv', 'path_to_white_wine.csv', 2)\n"
   ]
  },
  {
   "cell_type": "markdown",
   "id": "d920011e-149b-44d0-958a-c8a25c6d1dae",
   "metadata": {},
   "source": [
    "## Function to merge and plot combined PCA"
   ]
  },
  {
   "cell_type": "code",
   "execution_count": null,
   "id": "3fc27e51-9991-4752-a3ba-7c97b6a17deb",
   "metadata": {},
   "outputs": [],
   "source": [
    "def pca_and_plot_combined(red_wine_file, white_wine_file, n_components):\n",
    "    \"\"\"\n",
    "    Performs PCA on the combined red and white wine datasets and plots the results.\n",
    "\n",
    "    Parameters:\n",
    "    red_wine_file (str): Path to the red wine dataset file.\n",
    "    white_wine_file (str): Path to the white wine dataset file.\n",
    "    n_components (int): Number of principal components to retain.\n",
    "\n",
    "    Returns:\n",
    "    None: This function plots the PCA results.\n",
    "    \"\"\"\n",
    "\n",
    "    # Load the datasets\n",
    "    red_wine = pd.read_csv(red_wine_file, sep=';')\n",
    "    white_wine = pd.read_csv(white_wine_file, sep=';')\n",
    "\n",
    "    # Optionally, you can add a column to each dataset to label the wine type\n",
    "    red_wine['wine_type'] = 'red'\n",
    "    white_wine['wine_type'] = 'white'\n",
    "\n",
    "    # Combine the datasets\n",
    "    combined_data = pd.concat([red_wine, white_wine])\n",
    "\n",
    "    # Normalize the combined data\n",
    "    # Exclude the wine type label for normalization\n",
    "    features = combined_data.select_dtypes(include=[np.number])\n",
    "    normalized_features = (features - features.mean()) / features.std()\n",
    "\n",
    "    # Compute PCA on the combined data\n",
    "    covariance_matrix = np.cov(normalized_features.T)\n",
    "    eigenvalues, eigenvectors = np.linalg.eig(covariance_matrix)\n",
    "    eigenvectors = eigenvectors[:, np.argsort(-eigenvalues)][:, :n_components]\n",
    "\n",
    "    # Transform the data\n",
    "    transformed_data = np.dot(normalized_features, eigenvectors)\n",
    "\n",
    "    # Plotting the transformed data\n",
    "    plt.figure(figsize=(10, 6))\n",
    "    plt.scatter(transformed_data[combined_data['wine_type'] == 'red', 0], transformed_data[combined_data['wine_type'] == 'red', 1], color='red', alpha=0.5, label='Red Wine')\n",
    "    plt.scatter(transformed_data[combined_data['wine_type'] == 'white', 0], transformed_data[combined_data['wine_type'] == 'white', 1], color='green', alpha=0.5, label='White Wine')\n",
    "    plt.xlabel('Principal Component 1')\n",
    "    plt.ylabel('Principal Component 2')\n",
    "    plt.title('PCA of Combined Red and White Wine Datasets')\n",
    "    plt.legend()\n",
    "    plt.show()\n"
   ]
  },
  {
   "cell_type": "markdown",
   "id": "70b805ac-9e24-483b-ab7c-f2ba2ee64781",
   "metadata": {},
   "source": [
    "### Example usage"
   ]
  },
  {
   "cell_type": "code",
   "execution_count": null,
   "id": "cceb8da9-82e7-4bfd-8415-a7bd8d24d1fc",
   "metadata": {},
   "outputs": [],
   "source": [
    "pca_and_plot_combined('path_to_red_wine.csv', 'path_to_white_wine.csv', 2)"
   ]
  },
  {
   "cell_type": "markdown",
   "id": "b2635733-0e72-4b8a-a5b6-0bb411d0fd6b",
   "metadata": {},
   "source": [
    "**Applying PCA Separately to Each Dataset**:\n",
    "\n",
    "Strategy: Perform PCA independently on the red wine and white wine datasets. This means computing the principal components for each dataset separately.Observations:\n",
    "\n",
    "- This approach allows for the identification of features or patterns unique to each type of wine.\n",
    "- The principal components for each dataset represent the variance and characteristics specific to that dataset.\n",
    "\n",
    "Comparing the PCA results of the two datasets can highlight differences in the underlying factors that differentiate red and white wines.\n",
    "\n",
    "**Combining Datasets and Applying PCA Jointly**:\n",
    "\n",
    "Strategy: Merge the red and white wine datasets into a single dataset and then perform PCA on this combined dataset.\n",
    "Observations:\n",
    "\n",
    "- This approach provides a holistic view of the variance and features across both red and white wines.\n",
    "- The principal components derived from the combined dataset capture the variance that is most significant across all wines, not just within a specific type.\n",
    "\n",
    "By plotting the PCA results, one can observe how red and white wines cluster or spread in the same feature space, offering insights into similarities and differences between them.\n",
    "\n",
    "Key Differences and Considerations:\n",
    "\n",
    "**Uniqueness vs. Commonality**: Separate PCA allows for the identification of unique characteristics within each type of wine, while combined PCA emphasizes commonalities and overarching patterns across both types.\n",
    "\n",
    "**Data Dominance**: In the combined approach, if one type of wine (red or white) has more samples or greater variance, it might dominate the PCA results, potentially skewing the interpretation.\n",
    "\n",
    "**Interpretability**: Separate PCA might be easier to interpret, as the components are specific to one type of wine. In contrast, components from the combined PCA might require more careful interpretation, as they represent a mixture of features from both red and white wines.\n",
    "Use Case: The choice of strategy depends on the analytical goal. If the goal is to compare and contrast red and white wines, the combined approach might be more suitable. If the goal is to understand each wine type in depth, separate PCA would be more appropriate."
   ]
  },
  {
   "cell_type": "code",
   "execution_count": null,
   "id": "352ab499-5ce9-4b62-a118-4a1e552ae813",
   "metadata": {},
   "outputs": [],
   "source": []
  }
 ],
 "metadata": {
  "kernelspec": {
   "display_name": "Python 3 (ipykernel)",
   "language": "python",
   "name": "python3"
  },
  "language_info": {
   "codemirror_mode": {
    "name": "ipython",
    "version": 3
   },
   "file_extension": ".py",
   "mimetype": "text/x-python",
   "name": "python",
   "nbconvert_exporter": "python",
   "pygments_lexer": "ipython3",
   "version": "3.12.1"
  }
 },
 "nbformat": 4,
 "nbformat_minor": 5
}
