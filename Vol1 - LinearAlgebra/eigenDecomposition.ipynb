{
 "cells": [
  {
   "cell_type": "markdown",
   "id": "3c2fd3cd-77f8-4085-b3d0-1606874283c8",
   "metadata": {},
   "source": [
    "# Eigen Decomposition"
   ]
  },
  {
   "cell_type": "markdown",
   "id": "cc506949-d4be-452a-aa4a-b02f3a68fe95",
   "metadata": {},
   "source": [
    "## Eigen decomposition function"
   ]
  },
  {
   "cell_type": "code",
   "execution_count": null,
   "id": "d40c9acb-2738-4209-85d1-4cb6dd3a1560",
   "metadata": {},
   "outputs": [],
   "source": [
    "import numpy as np\n",
    "\n",
    "def eigendecomposition(A: np.ndarray):\n",
    "    assert A.shape[0] == A.shape[1], \"Matrix A must be square.\"\n",
    "    eigenvalues, eigenvectors = np.linalg.eig(A)\n",
    "    return eigenvalues, eigenvectors"
   ]
  },
  {
   "cell_type": "markdown",
   "id": "59e2596f-b141-4513-8514-e1cf3fe6af81",
   "metadata": {},
   "source": [
    "## Eigen values and eigen vectors"
   ]
  },
  {
   "cell_type": "code",
   "execution_count": null,
   "id": "6e32c30f-ef9d-40c3-84c1-b9a27456349b",
   "metadata": {},
   "outputs": [],
   "source": [
    "# Define a square matrix A\n",
    "A = np.array([\n",
    "    [4, 2],\n",
    "    [3, 1]\n",
    "])\n",
    "\n",
    "# Test the function with matrix A\n",
    "eigenvalues, eigenvectors = eigendecomposition(A)\n",
    "\n",
    "# Displaying eigenvalues and eigenvectors\n",
    "print(\"Eigenvalues:\", eigenvalues)\n",
    "print(\"Eigenvectors:\", eigenvectors)"
   ]
  },
  {
   "cell_type": "markdown",
   "id": "a8353912-9f8a-43a4-9bc2-246e02e6b495",
   "metadata": {},
   "source": [
    "## Diagonal matrix"
   ]
  },
  {
   "cell_type": "code",
   "execution_count": null,
   "id": "5e71e48d-44ef-4865-9767-0a41a8f6ba5e",
   "metadata": {},
   "outputs": [],
   "source": [
    "# Forming the diagonal matrix Lambda\n",
    "Lambda = np.diag(eigenvalues)\n",
    "print(\"\\nMatrix Lambda (Diagonal matrix of eigenvalues):\")\n",
    "print(Lambda)"
   ]
  },
  {
   "cell_type": "markdown",
   "id": "cba6585e-de1f-408a-830b-2b7a0f4d2894",
   "metadata": {},
   "source": [
    "## Eigen decomposition"
   ]
  },
  {
   "cell_type": "code",
   "execution_count": null,
   "id": "9786d7c9-855a-4aa8-807a-7be9b4730b6b",
   "metadata": {},
   "outputs": [],
   "source": [
    "# Verifying the eigendecomposition A = Q * Lambda * Q_inv\n",
    "Q = eigenvectors\n",
    "Q_inv = np.linalg.inv(Q)\n",
    "A_reconstructed = np.dot(Q, np.dot(Lambda, Q_inv))"
   ]
  },
  {
   "cell_type": "markdown",
   "id": "83962ce0-251d-41fc-a97f-1e1ab53f2a5f",
   "metadata": {},
   "source": [
    "## Displaying the decomposition and verification"
   ]
  },
  {
   "cell_type": "code",
   "execution_count": null,
   "id": "a6634523-cf2e-433b-8664-ba588cb73224",
   "metadata": {},
   "outputs": [],
   "source": [
    "print(\"\\nMatrix A:\")\n",
    "print(A)\n",
    "\n",
    "print(\"\\nMatrix Q (Eigenvectors of A):\")\n",
    "print(Q)\n",
    "\n",
    "print(\"\\nMatrix Q_inv (Inverse of Q):\")\n",
    "print(Q_inv)\n",
    "\n",
    "print(\"\\nVerification: Q * Lambda * Q_inv:\")\n",
    "print(A_reconstructed)"
   ]
  }
 ],
 "metadata": {
  "kernelspec": {
   "display_name": "Python 3 (ipykernel)",
   "language": "python",
   "name": "python3"
  },
  "language_info": {
   "codemirror_mode": {
    "name": "ipython",
    "version": 3
   },
   "file_extension": ".py",
   "mimetype": "text/x-python",
   "name": "python",
   "nbconvert_exporter": "python",
   "pygments_lexer": "ipython3",
   "version": "3.12.1"
  }
 },
 "nbformat": 4,
 "nbformat_minor": 5
}
